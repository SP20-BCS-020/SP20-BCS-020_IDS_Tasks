{
 "cells": [
  {
   "cell_type": "code",
   "execution_count": 15,
   "id": "7b8aab77",
   "metadata": {},
   "outputs": [],
   "source": [
    "#Name: Ayesha Tariq\n",
    "#Registration Number: SP20-BCS-020\n",
    "#Group: 4"
   ]
  },
  {
   "cell_type": "code",
   "execution_count": 4,
   "id": "fd67d6d2",
   "metadata": {},
   "outputs": [],
   "source": [
    "import pandas as pd\n",
    "import numpy as np\n",
    "from numpy.linalg import norm\n",
    "from numpy.linalg import norm\n",
    "import collections\n",
    "from sklearn.feature_extraction.text import CountVectorizer"
   ]
  },
  {
   "cell_type": "code",
   "execution_count": 2,
   "id": "08224cd7",
   "metadata": {},
   "outputs": [],
   "source": [
    "data = ['sunshine state enjoy sunshine',\n",
    "          'brown fox jump high , brown fox run',\n",
    "          'sunshine state fox run fast' ]"
   ]
  },
  {
   "cell_type": "code",
   "execution_count": 5,
   "id": "41bb0a24",
   "metadata": {},
   "outputs": [
    {
     "name": "stdout",
     "output_type": "stream",
     "text": [
      "['brown', 'enjoy', 'fast', 'fox', 'high', 'jump', 'run', 'state', 'sunshine']\n"
     ]
    }
   ],
   "source": [
    "vectorizer = CountVectorizer()\n",
    "X = vectorizer.fit_transform(data)\n",
    "print(vectorizer.get_feature_names())"
   ]
  },
  {
   "cell_type": "code",
   "execution_count": 6,
   "id": "fa5ccfa9",
   "metadata": {},
   "outputs": [
    {
     "name": "stdout",
     "output_type": "stream",
     "text": [
      "[[0 1 0 0 0 0 0 1 2]\n",
      " [2 0 0 2 1 1 1 0 0]\n",
      " [0 0 1 1 0 0 1 1 1]]\n"
     ]
    }
   ],
   "source": [
    "#Writing all documents in Vector form\n",
    "print(X.toarray())"
   ]
  },
  {
   "cell_type": "code",
   "execution_count": 7,
   "id": "eb63f1d8",
   "metadata": {},
   "outputs": [
    {
     "name": "stdout",
     "output_type": "stream",
     "text": [
      "Number of tokens in the data: 10\n",
      "The tokens in the data: \n",
      " {'high', 'jump', 'state', 'fast', 'brown', 'sunshine', 'run', ',', 'enjoy', 'fox'}\n"
     ]
    }
   ],
   "source": [
    "words_set = set()\n",
    "\n",
    "for doc in  data:\n",
    "    words = doc.split(' ')\n",
    "    words_set = words_set.union(set(words))\n",
    "    \n",
    "print('Number of tokens in the data:',len(words_set))\n",
    "print('The tokens in the data: \\n', words_set)"
   ]
  },
  {
   "cell_type": "code",
   "execution_count": 8,
   "id": "f9fd93c6",
   "metadata": {},
   "outputs": [
    {
     "data": {
      "text/html": [
       "<div>\n",
       "<style scoped>\n",
       "    .dataframe tbody tr th:only-of-type {\n",
       "        vertical-align: middle;\n",
       "    }\n",
       "\n",
       "    .dataframe tbody tr th {\n",
       "        vertical-align: top;\n",
       "    }\n",
       "\n",
       "    .dataframe thead th {\n",
       "        text-align: right;\n",
       "    }\n",
       "</style>\n",
       "<table border=\"1\" class=\"dataframe\">\n",
       "  <thead>\n",
       "    <tr style=\"text-align: right;\">\n",
       "      <th></th>\n",
       "      <th>high</th>\n",
       "      <th>jump</th>\n",
       "      <th>state</th>\n",
       "      <th>fast</th>\n",
       "      <th>brown</th>\n",
       "      <th>sunshine</th>\n",
       "      <th>run</th>\n",
       "      <th>,</th>\n",
       "      <th>enjoy</th>\n",
       "      <th>fox</th>\n",
       "    </tr>\n",
       "  </thead>\n",
       "  <tbody>\n",
       "    <tr>\n",
       "      <th>0</th>\n",
       "      <td>0.000</td>\n",
       "      <td>0.000</td>\n",
       "      <td>0.25</td>\n",
       "      <td>0.0</td>\n",
       "      <td>0.00</td>\n",
       "      <td>0.5</td>\n",
       "      <td>0.000</td>\n",
       "      <td>0.000</td>\n",
       "      <td>0.25</td>\n",
       "      <td>0.00</td>\n",
       "    </tr>\n",
       "    <tr>\n",
       "      <th>1</th>\n",
       "      <td>0.125</td>\n",
       "      <td>0.125</td>\n",
       "      <td>0.00</td>\n",
       "      <td>0.0</td>\n",
       "      <td>0.25</td>\n",
       "      <td>0.0</td>\n",
       "      <td>0.125</td>\n",
       "      <td>0.125</td>\n",
       "      <td>0.00</td>\n",
       "      <td>0.25</td>\n",
       "    </tr>\n",
       "    <tr>\n",
       "      <th>2</th>\n",
       "      <td>0.000</td>\n",
       "      <td>0.000</td>\n",
       "      <td>0.20</td>\n",
       "      <td>0.2</td>\n",
       "      <td>0.00</td>\n",
       "      <td>0.2</td>\n",
       "      <td>0.200</td>\n",
       "      <td>0.000</td>\n",
       "      <td>0.00</td>\n",
       "      <td>0.20</td>\n",
       "    </tr>\n",
       "  </tbody>\n",
       "</table>\n",
       "</div>"
      ],
      "text/plain": [
       "    high   jump  state  fast  brown  sunshine    run      ,  enjoy   fox\n",
       "0  0.000  0.000   0.25   0.0   0.00       0.5  0.000  0.000   0.25  0.00\n",
       "1  0.125  0.125   0.00   0.0   0.25       0.0  0.125  0.125   0.00  0.25\n",
       "2  0.000  0.000   0.20   0.2   0.00       0.2  0.200  0.000   0.00  0.20"
      ]
     },
     "execution_count": 8,
     "metadata": {},
     "output_type": "execute_result"
    }
   ],
   "source": [
    "#Number of documents in the data\n",
    "n_docs = len(data)    \n",
    "#Number of unique words in the data     \n",
    "n_words_set = len(words_set) \n",
    "\n",
    "df_tf = pd.DataFrame(np.zeros((n_docs, n_words_set)), columns=words_set)\n",
    "\n",
    "#Term Frequency (TF)\n",
    "for i in range(n_docs):\n",
    "    words = data[i].split(' ') \n",
    "    for w in words:\n",
    "        df_tf[w][i] = df_tf[w][i] + (1 / len(words))\n",
    "        \n",
    "df_tf"
   ]
  },
  {
   "cell_type": "code",
   "execution_count": 10,
   "id": "f6924b5e",
   "metadata": {},
   "outputs": [
    {
     "name": "stdout",
     "output_type": "stream",
     "text": [
      "IDF of: \n",
      "           high: 0.47712125471966244\n",
      "           jump: 0.47712125471966244\n",
      "          state: 0.17609125905568124\n",
      "           fast: 0.47712125471966244\n",
      "          brown: 0.47712125471966244\n",
      "       sunshine: 0.17609125905568124\n",
      "            run: 0.17609125905568124\n",
      "              ,: 0.47712125471966244\n",
      "          enjoy: 0.47712125471966244\n",
      "            fox: 0.17609125905568124\n"
     ]
    }
   ],
   "source": [
    "print(\"IDF of: \")\n",
    "\n",
    "idf = {}\n",
    "\n",
    "for w in words_set:\n",
    "    k = 0    # number of documents in the corpus that contain this word\n",
    "    \n",
    "    for i in range(n_docs):\n",
    "        if w in data[i].split():\n",
    "            k += 1\n",
    "            \n",
    "    idf[w] =  np.log10(n_docs / k)\n",
    "    \n",
    "    print(f'{w:>15}: {idf[w]:>10}' )"
   ]
  },
  {
   "cell_type": "code",
   "execution_count": 11,
   "id": "ec4f56a4",
   "metadata": {},
   "outputs": [
    {
     "data": {
      "text/html": [
       "<div>\n",
       "<style scoped>\n",
       "    .dataframe tbody tr th:only-of-type {\n",
       "        vertical-align: middle;\n",
       "    }\n",
       "\n",
       "    .dataframe tbody tr th {\n",
       "        vertical-align: top;\n",
       "    }\n",
       "\n",
       "    .dataframe thead th {\n",
       "        text-align: right;\n",
       "    }\n",
       "</style>\n",
       "<table border=\"1\" class=\"dataframe\">\n",
       "  <thead>\n",
       "    <tr style=\"text-align: right;\">\n",
       "      <th></th>\n",
       "      <th>high</th>\n",
       "      <th>jump</th>\n",
       "      <th>state</th>\n",
       "      <th>fast</th>\n",
       "      <th>brown</th>\n",
       "      <th>sunshine</th>\n",
       "      <th>run</th>\n",
       "      <th>,</th>\n",
       "      <th>enjoy</th>\n",
       "      <th>fox</th>\n",
       "    </tr>\n",
       "  </thead>\n",
       "  <tbody>\n",
       "    <tr>\n",
       "      <th>0</th>\n",
       "      <td>0.00000</td>\n",
       "      <td>0.00000</td>\n",
       "      <td>0.044023</td>\n",
       "      <td>0.000000</td>\n",
       "      <td>0.00000</td>\n",
       "      <td>0.088046</td>\n",
       "      <td>0.000000</td>\n",
       "      <td>0.00000</td>\n",
       "      <td>0.11928</td>\n",
       "      <td>0.000000</td>\n",
       "    </tr>\n",
       "    <tr>\n",
       "      <th>1</th>\n",
       "      <td>0.05964</td>\n",
       "      <td>0.05964</td>\n",
       "      <td>0.000000</td>\n",
       "      <td>0.000000</td>\n",
       "      <td>0.11928</td>\n",
       "      <td>0.000000</td>\n",
       "      <td>0.022011</td>\n",
       "      <td>0.05964</td>\n",
       "      <td>0.00000</td>\n",
       "      <td>0.044023</td>\n",
       "    </tr>\n",
       "    <tr>\n",
       "      <th>2</th>\n",
       "      <td>0.00000</td>\n",
       "      <td>0.00000</td>\n",
       "      <td>0.035218</td>\n",
       "      <td>0.095424</td>\n",
       "      <td>0.00000</td>\n",
       "      <td>0.035218</td>\n",
       "      <td>0.035218</td>\n",
       "      <td>0.00000</td>\n",
       "      <td>0.00000</td>\n",
       "      <td>0.035218</td>\n",
       "    </tr>\n",
       "  </tbody>\n",
       "</table>\n",
       "</div>"
      ],
      "text/plain": [
       "      high     jump     state      fast    brown  sunshine       run        ,  \\\n",
       "0  0.00000  0.00000  0.044023  0.000000  0.00000  0.088046  0.000000  0.00000   \n",
       "1  0.05964  0.05964  0.000000  0.000000  0.11928  0.000000  0.022011  0.05964   \n",
       "2  0.00000  0.00000  0.035218  0.095424  0.00000  0.035218  0.035218  0.00000   \n",
       "\n",
       "     enjoy       fox  \n",
       "0  0.11928  0.000000  \n",
       "1  0.00000  0.044023  \n",
       "2  0.00000  0.035218  "
      ]
     },
     "execution_count": 11,
     "metadata": {},
     "output_type": "execute_result"
    }
   ],
   "source": [
    "df_tf_idf = df_tf.copy()\n",
    "\n",
    "for w in words_set:\n",
    "    for i in range(n_docs):\n",
    "        df_tf_idf[w][i] = df_tf[w][i] * idf[w]\n",
    "        \n",
    "df_tf_idf"
   ]
  },
  {
   "cell_type": "code",
   "execution_count": 12,
   "id": "68b8f4d7",
   "metadata": {},
   "outputs": [],
   "source": [
    "#Cosine Similarity\n",
    "C_S1 = np.array([2, 0, 0, 0, 1, 0, 0, 0, 1])\n",
    "C_S3 = np.array([1, 1, 1, 0, 0, 1, 0, 0, 1])"
   ]
  },
  {
   "cell_type": "code",
   "execution_count": 13,
   "id": "d52b2126",
   "metadata": {},
   "outputs": [
    {
     "name": "stdout",
     "output_type": "stream",
     "text": [
      "Cosine Similarity of S1 and S3 is =  0.5477225575051661\n"
     ]
    }
   ],
   "source": [
    "cosine = np.dot(C_S1,C_S3)/(norm(C_S1)*norm(C_S3))\n",
    "print(\"Cosine Similarity of S1 and S3 is = \", cosine)"
   ]
  }
 ],
 "metadata": {
  "kernelspec": {
   "display_name": "Python 3 (ipykernel)",
   "language": "python",
   "name": "python3"
  },
  "language_info": {
   "codemirror_mode": {
    "name": "ipython",
    "version": 3
   },
   "file_extension": ".py",
   "mimetype": "text/x-python",
   "name": "python",
   "nbconvert_exporter": "python",
   "pygments_lexer": "ipython3",
   "version": "3.9.12"
  }
 },
 "nbformat": 4,
 "nbformat_minor": 5
}
