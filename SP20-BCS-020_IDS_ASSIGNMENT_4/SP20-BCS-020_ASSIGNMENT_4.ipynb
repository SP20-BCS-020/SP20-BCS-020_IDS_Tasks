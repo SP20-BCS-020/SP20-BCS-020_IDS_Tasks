{
 "cells": [
  {
   "cell_type": "code",
   "execution_count": 1,
   "id": "6b580b47",
   "metadata": {},
   "outputs": [
    {
     "name": "stdout",
     "output_type": "stream",
     "text": [
      "Requirement already satisfied: scikit-plot in c:\\users\\hp\\anaconda3\\lib\\site-packages (0.3.7)\n",
      "Requirement already satisfied: joblib>=0.10 in c:\\users\\hp\\anaconda3\\lib\\site-packages (from scikit-plot) (1.1.0)\n",
      "Requirement already satisfied: matplotlib>=1.4.0 in c:\\users\\hp\\anaconda3\\lib\\site-packages (from scikit-plot) (3.5.1)\n",
      "Requirement already satisfied: scipy>=0.9 in c:\\users\\hp\\anaconda3\\lib\\site-packages (from scikit-plot) (1.7.3)\n",
      "Requirement already satisfied: scikit-learn>=0.18 in c:\\users\\hp\\anaconda3\\lib\\site-packages (from scikit-plot) (1.0.2)\n",
      "Requirement already satisfied: packaging>=20.0 in c:\\users\\hp\\anaconda3\\lib\\site-packages (from matplotlib>=1.4.0->scikit-plot) (21.3)\n",
      "Requirement already satisfied: python-dateutil>=2.7 in c:\\users\\hp\\anaconda3\\lib\\site-packages (from matplotlib>=1.4.0->scikit-plot) (2.8.2)\n",
      "Requirement already satisfied: numpy>=1.17 in c:\\users\\hp\\anaconda3\\lib\\site-packages (from matplotlib>=1.4.0->scikit-plot) (1.21.5)\n",
      "Requirement already satisfied: pyparsing>=2.2.1 in c:\\users\\hp\\anaconda3\\lib\\site-packages (from matplotlib>=1.4.0->scikit-plot) (3.0.4)\n",
      "Requirement already satisfied: cycler>=0.10 in c:\\users\\hp\\anaconda3\\lib\\site-packages (from matplotlib>=1.4.0->scikit-plot) (0.11.0)\n",
      "Requirement already satisfied: kiwisolver>=1.0.1 in c:\\users\\hp\\anaconda3\\lib\\site-packages (from matplotlib>=1.4.0->scikit-plot) (1.3.2)\n",
      "Requirement already satisfied: pillow>=6.2.0 in c:\\users\\hp\\anaconda3\\lib\\site-packages (from matplotlib>=1.4.0->scikit-plot) (9.0.1)\n",
      "Requirement already satisfied: fonttools>=4.22.0 in c:\\users\\hp\\anaconda3\\lib\\site-packages (from matplotlib>=1.4.0->scikit-plot) (4.25.0)\n",
      "Requirement already satisfied: six>=1.5 in c:\\users\\hp\\anaconda3\\lib\\site-packages (from python-dateutil>=2.7->matplotlib>=1.4.0->scikit-plot) (1.16.0)\n",
      "Requirement already satisfied: threadpoolctl>=2.0.0 in c:\\users\\hp\\anaconda3\\lib\\site-packages (from scikit-learn>=0.18->scikit-plot) (2.2.0)\n"
     ]
    }
   ],
   "source": [
    "#AYESHA TARIQ\n",
    "#Registration Number: SP\n",
    "#install scikitplot-BCS-020\n",
    "!pip install scikit-plot"
   ]
  },
  {
   "cell_type": "code",
   "execution_count": 2,
   "id": "9933dc49",
   "metadata": {},
   "outputs": [],
   "source": [
    "#import libraries\n",
    "from sklearn import preprocessing\n",
    "import pandas as pd"
   ]
  },
  {
   "cell_type": "code",
   "execution_count": 3,
   "id": "8e858500",
   "metadata": {},
   "outputs": [],
   "source": [
    "#import different ML classifiers\n",
    "from sklearn.ensemble import RandomForestClassifier\n",
    "from sklearn.svm import SVC, LinearSVC\n",
    "from sklearn.neural_network import MLPClassifier"
   ]
  },
  {
   "cell_type": "code",
   "execution_count": 4,
   "id": "44370408",
   "metadata": {},
   "outputs": [],
   "source": [
    "#import ML evaluation metrics\n",
    "from sklearn.metrics import accuracy_score, f1_score\n",
    "from sklearn.model_selection import train_test_split\n",
    "from sklearn import metrics, model_selection\n",
    "from sklearn.metrics import precision_score, recall_score, f1_score, accuracy_score"
   ]
  },
  {
   "cell_type": "code",
   "execution_count": 5,
   "id": "fe5212d9",
   "metadata": {},
   "outputs": [
    {
     "name": "stdout",
     "output_type": "stream",
     "text": [
      "    height  weight beard hair_length  shoe_size scarf eye_color  gender\n",
      "0       71     176   yes       short         44    no     black    male\n",
      "1       68     165    no        bald         41    no     black    male\n",
      "2       62     132    no      medium         37   yes      blue  female\n",
      "3       65     138    no        long         38    no      gray  female\n",
      "4       70     197   yes      medium         43    no      gray    male\n",
      "..     ...     ...   ...         ...        ...   ...       ...     ...\n",
      "75      65      99    no       short         39   yes     green  female\n",
      "76      61      98    no       short         37    no     brown  female\n",
      "77      67     119   yes       short         40    no     black    male\n",
      "78      70     190   yes      medium         43    no      gray    male\n",
      "79      62     142   yes        long         37    no      blue  female\n",
      "\n",
      "[80 rows x 8 columns]\n"
     ]
    }
   ],
   "source": [
    "df = pd.read_csv(r'C:\\Users\\hp\\Downloads\\gender-prediction.csv')\n",
    "print(df)"
   ]
  },
  {
   "cell_type": "code",
   "execution_count": 6,
   "id": "8aec0d3b",
   "metadata": {},
   "outputs": [],
   "source": [
    "#converting strings into numbers\n",
    "labels = preprocessing.LabelEncoder()"
   ]
  },
  {
   "cell_type": "code",
   "execution_count": 7,
   "id": "95d3b50d",
   "metadata": {},
   "outputs": [
    {
     "name": "stdout",
     "output_type": "stream",
     "text": [
      "[1 0 0 0 1 1 1 0 0 0 0 1 0 0 1 1 0 0 0 0 0 1 1 1 0 1 1 0 0 0 0 1 0 0 0 1 0\n",
      " 1 0 0 0 1 1 1 1 0 0 1 1 1 1 1 0 1 0 0 1 0 1 1 0 1 1 0 0 1 0 1 0 1 0 0 1 0\n",
      " 0 0 0 1 1 1]\n"
     ]
    }
   ],
   "source": [
    "#For attribute beard\n",
    "b_encoded = labels.fit_transform(df.beard)\n",
    "print(b_encoded)"
   ]
  },
  {
   "cell_type": "code",
   "execution_count": 8,
   "id": "08c278f3",
   "metadata": {},
   "outputs": [
    {
     "name": "stdout",
     "output_type": "stream",
     "text": [
      "[3 0 2 1 2 3 0 3 3 2 1 3 2 1 2 3 3 1 1 2 2 2 3 2 2 2 2 2 1 3 2 2 1 2 2 2 2\n",
      " 2 1 2 3 2 2 3 0 2 1 2 2 2 2 2 2 2 1 2 2 1 2 2 2 2 3 1 1 0 1 3 2 3 1 2 2 1\n",
      " 1 3 3 3 2 1]\n"
     ]
    }
   ],
   "source": [
    "#For attribute hair_length\n",
    "h_encoded = labels.fit_transform(df.hair_length)\n",
    "print(h_encoded)"
   ]
  },
  {
   "cell_type": "code",
   "execution_count": 9,
   "id": "ca0ec2d2",
   "metadata": {},
   "outputs": [
    {
     "name": "stdout",
     "output_type": "stream",
     "text": [
      "[0 0 1 0 0 0 0 0 0 1 0 0 0 0 0 0 0 1 1 0 0 0 0 0 1 0 0 0 0 1 1 0 0 0 1 0 1\n",
      " 0 1 1 0 0 0 0 0 0 0 0 0 0 0 0 0 0 0 0 0 1 0 0 0 0 0 1 1 0 1 0 1 0 0 0 0 1\n",
      " 1 1 0 0 0 0]\n"
     ]
    }
   ],
   "source": [
    "#For attribute scarf\n",
    "s_encoded = labels.fit_transform(df.scarf)\n",
    "print(s_encoded)"
   ]
  },
  {
   "cell_type": "code",
   "execution_count": 10,
   "id": "0d79e142",
   "metadata": {},
   "outputs": [
    {
     "name": "stdout",
     "output_type": "stream",
     "text": [
      "[0 0 1 3 3 0 2 2 4 3 3 3 0 3 0 1 0 4 3 4 0 0 0 3 2 2 0 4 1 3 2 3 3 0 2 2 4\n",
      " 0 3 4 3 0 0 2 0 2 0 2 0 0 0 2 2 2 2 0 2 3 2 2 2 2 2 4 3 0 4 0 0 0 2 0 2 3\n",
      " 4 4 2 0 3 1]\n"
     ]
    }
   ],
   "source": [
    "#For attribute eye colour\n",
    "e_encoded = labels.fit_transform(df.eye_color)\n",
    "print(e_encoded)"
   ]
  },
  {
   "cell_type": "code",
   "execution_count": 11,
   "id": "ad90bdba",
   "metadata": {},
   "outputs": [
    {
     "name": "stdout",
     "output_type": "stream",
     "text": [
      "[1 1 0 0 1 1 1 1 0 0 0 1 1 0 1 1 1 0 0 0 0 1 1 1 0 1 1 0 0 0 0 1 0 0 0 1 0\n",
      " 1 0 0 0 1 1 1 1 1 1 1 1 1 1 1 1 1 0 1 1 0 1 1 1 1 1 0 0 1 0 1 0 1 0 1 1 0\n",
      " 0 0 0 1 1 0]\n"
     ]
    }
   ],
   "source": [
    "#For attribute gender\n",
    "g_encoded = labels.fit_transform(df.gender)\n",
    "print(g_encoded)"
   ]
  },
  {
   "cell_type": "code",
   "execution_count": 12,
   "id": "2282ede4",
   "metadata": {},
   "outputs": [],
   "source": [
    "#seperate dependent (output) and independent (input) variables\n",
    "x = df.drop('gender', axis=1)\n",
    "y = df['gender']"
   ]
  },
  {
   "cell_type": "code",
   "execution_count": 13,
   "id": "1689c2af",
   "metadata": {},
   "outputs": [
    {
     "data": {
      "text/html": [
       "<div>\n",
       "<style scoped>\n",
       "    .dataframe tbody tr th:only-of-type {\n",
       "        vertical-align: middle;\n",
       "    }\n",
       "\n",
       "    .dataframe tbody tr th {\n",
       "        vertical-align: top;\n",
       "    }\n",
       "\n",
       "    .dataframe thead th {\n",
       "        text-align: right;\n",
       "    }\n",
       "</style>\n",
       "<table border=\"1\" class=\"dataframe\">\n",
       "  <thead>\n",
       "    <tr style=\"text-align: right;\">\n",
       "      <th></th>\n",
       "      <th>height</th>\n",
       "      <th>weight</th>\n",
       "      <th>beard</th>\n",
       "      <th>hair_length</th>\n",
       "      <th>shoe_size</th>\n",
       "      <th>scarf</th>\n",
       "      <th>eye_color</th>\n",
       "    </tr>\n",
       "  </thead>\n",
       "  <tbody>\n",
       "    <tr>\n",
       "      <th>0</th>\n",
       "      <td>71</td>\n",
       "      <td>176</td>\n",
       "      <td>yes</td>\n",
       "      <td>short</td>\n",
       "      <td>44</td>\n",
       "      <td>no</td>\n",
       "      <td>black</td>\n",
       "    </tr>\n",
       "    <tr>\n",
       "      <th>1</th>\n",
       "      <td>68</td>\n",
       "      <td>165</td>\n",
       "      <td>no</td>\n",
       "      <td>bald</td>\n",
       "      <td>41</td>\n",
       "      <td>no</td>\n",
       "      <td>black</td>\n",
       "    </tr>\n",
       "    <tr>\n",
       "      <th>2</th>\n",
       "      <td>62</td>\n",
       "      <td>132</td>\n",
       "      <td>no</td>\n",
       "      <td>medium</td>\n",
       "      <td>37</td>\n",
       "      <td>yes</td>\n",
       "      <td>blue</td>\n",
       "    </tr>\n",
       "    <tr>\n",
       "      <th>3</th>\n",
       "      <td>65</td>\n",
       "      <td>138</td>\n",
       "      <td>no</td>\n",
       "      <td>long</td>\n",
       "      <td>38</td>\n",
       "      <td>no</td>\n",
       "      <td>gray</td>\n",
       "    </tr>\n",
       "    <tr>\n",
       "      <th>4</th>\n",
       "      <td>70</td>\n",
       "      <td>197</td>\n",
       "      <td>yes</td>\n",
       "      <td>medium</td>\n",
       "      <td>43</td>\n",
       "      <td>no</td>\n",
       "      <td>gray</td>\n",
       "    </tr>\n",
       "    <tr>\n",
       "      <th>...</th>\n",
       "      <td>...</td>\n",
       "      <td>...</td>\n",
       "      <td>...</td>\n",
       "      <td>...</td>\n",
       "      <td>...</td>\n",
       "      <td>...</td>\n",
       "      <td>...</td>\n",
       "    </tr>\n",
       "    <tr>\n",
       "      <th>75</th>\n",
       "      <td>65</td>\n",
       "      <td>99</td>\n",
       "      <td>no</td>\n",
       "      <td>short</td>\n",
       "      <td>39</td>\n",
       "      <td>yes</td>\n",
       "      <td>green</td>\n",
       "    </tr>\n",
       "    <tr>\n",
       "      <th>76</th>\n",
       "      <td>61</td>\n",
       "      <td>98</td>\n",
       "      <td>no</td>\n",
       "      <td>short</td>\n",
       "      <td>37</td>\n",
       "      <td>no</td>\n",
       "      <td>brown</td>\n",
       "    </tr>\n",
       "    <tr>\n",
       "      <th>77</th>\n",
       "      <td>67</td>\n",
       "      <td>119</td>\n",
       "      <td>yes</td>\n",
       "      <td>short</td>\n",
       "      <td>40</td>\n",
       "      <td>no</td>\n",
       "      <td>black</td>\n",
       "    </tr>\n",
       "    <tr>\n",
       "      <th>78</th>\n",
       "      <td>70</td>\n",
       "      <td>190</td>\n",
       "      <td>yes</td>\n",
       "      <td>medium</td>\n",
       "      <td>43</td>\n",
       "      <td>no</td>\n",
       "      <td>gray</td>\n",
       "    </tr>\n",
       "    <tr>\n",
       "      <th>79</th>\n",
       "      <td>62</td>\n",
       "      <td>142</td>\n",
       "      <td>yes</td>\n",
       "      <td>long</td>\n",
       "      <td>37</td>\n",
       "      <td>no</td>\n",
       "      <td>blue</td>\n",
       "    </tr>\n",
       "  </tbody>\n",
       "</table>\n",
       "<p>80 rows × 7 columns</p>\n",
       "</div>"
      ],
      "text/plain": [
       "    height  weight beard hair_length  shoe_size scarf eye_color\n",
       "0       71     176   yes       short         44    no     black\n",
       "1       68     165    no        bald         41    no     black\n",
       "2       62     132    no      medium         37   yes      blue\n",
       "3       65     138    no        long         38    no      gray\n",
       "4       70     197   yes      medium         43    no      gray\n",
       "..     ...     ...   ...         ...        ...   ...       ...\n",
       "75      65      99    no       short         39   yes     green\n",
       "76      61      98    no       short         37    no     brown\n",
       "77      67     119   yes       short         40    no     black\n",
       "78      70     190   yes      medium         43    no      gray\n",
       "79      62     142   yes        long         37    no      blue\n",
       "\n",
       "[80 rows x 7 columns]"
      ]
     },
     "execution_count": 13,
     "metadata": {},
     "output_type": "execute_result"
    }
   ],
   "source": [
    "x"
   ]
  },
  {
   "cell_type": "code",
   "execution_count": 14,
   "id": "f2ea7307",
   "metadata": {},
   "outputs": [
    {
     "data": {
      "text/plain": [
       "0       male\n",
       "1       male\n",
       "2     female\n",
       "3     female\n",
       "4       male\n",
       "       ...  \n",
       "75    female\n",
       "76    female\n",
       "77      male\n",
       "78      male\n",
       "79    female\n",
       "Name: gender, Length: 80, dtype: object"
      ]
     },
     "execution_count": 14,
     "metadata": {},
     "output_type": "execute_result"
    }
   ],
   "source": [
    "y"
   ]
  },
  {
   "cell_type": "code",
   "execution_count": 15,
   "id": "22bf0285",
   "metadata": {},
   "outputs": [],
   "source": [
    "X = list(zip(df.height, df.weight, b_encoded, h_encoded, df.shoe_size, s_encoded, e_encoded))\n",
    "Y = g_encoded"
   ]
  },
  {
   "cell_type": "code",
   "execution_count": 16,
   "id": "bcc99a77",
   "metadata": {},
   "outputs": [
    {
     "data": {
      "text/plain": [
       "[(71, 176, 1, 3, 44, 0, 0),\n",
       " (68, 165, 0, 0, 41, 0, 0),\n",
       " (62, 132, 0, 2, 37, 1, 1),\n",
       " (65, 138, 0, 1, 38, 0, 3),\n",
       " (70, 197, 1, 2, 43, 0, 3),\n",
       " (71, 190, 1, 3, 43, 0, 0),\n",
       " (74, 201, 1, 0, 44, 0, 2),\n",
       " (74, 182, 0, 3, 46, 0, 2),\n",
       " (63, 127, 0, 3, 35, 0, 4),\n",
       " (65, 139, 0, 2, 37, 1, 3),\n",
       " (66, 125, 0, 1, 36, 0, 3),\n",
       " (73, 188, 1, 3, 42, 0, 3),\n",
       " (74, 167, 0, 2, 41, 0, 0),\n",
       " (68, 141, 0, 1, 38, 0, 3),\n",
       " (70, 199, 1, 2, 40, 0, 0),\n",
       " (73, 189, 1, 3, 43, 0, 1),\n",
       " (69, 159, 0, 3, 43, 0, 0),\n",
       " (68, 135, 0, 1, 37, 1, 4),\n",
       " (68, 145, 0, 1, 38, 1, 3),\n",
       " (66, 138, 0, 2, 37, 0, 4),\n",
       " (66, 132, 0, 2, 40, 0, 0),\n",
       " (71, 170, 1, 2, 42, 0, 0),\n",
       " (67, 119, 1, 3, 40, 0, 0),\n",
       " (70, 190, 1, 2, 43, 0, 3),\n",
       " (68, 154, 0, 2, 38, 1, 2),\n",
       " (71, 155, 1, 2, 45, 0, 2),\n",
       " (69, 121, 1, 2, 41, 0, 0),\n",
       " (68, 97, 0, 2, 39, 0, 4),\n",
       " (68, 158, 0, 1, 38, 0, 1),\n",
       " (58, 92, 0, 3, 40, 1, 3),\n",
       " (63, 109, 0, 2, 37, 1, 2),\n",
       " (71, 158, 1, 2, 44, 0, 3),\n",
       " (61, 88, 0, 1, 37, 0, 3),\n",
       " (67, 132, 0, 2, 38, 0, 0),\n",
       " (62, 116, 0, 2, 39, 1, 2),\n",
       " (71, 125, 1, 2, 42, 0, 2),\n",
       " (63, 125, 0, 2, 39, 1, 4),\n",
       " (68, 121, 1, 2, 40, 0, 0),\n",
       " (67, 145, 0, 1, 39, 1, 3),\n",
       " (65, 99, 0, 2, 38, 1, 4),\n",
       " (61, 98, 0, 3, 37, 0, 3),\n",
       " (70, 167, 1, 2, 42, 0, 0),\n",
       " (64, 122, 1, 2, 42, 0, 0),\n",
       " (61, 156, 1, 3, 41, 0, 2),\n",
       " (69, 178, 1, 0, 44, 0, 0),\n",
       " (72, 150, 0, 2, 43, 0, 2),\n",
       " (70, 160, 0, 1, 42, 0, 0),\n",
       " (67, 167, 1, 2, 42, 0, 2),\n",
       " (72, 153, 1, 2, 42, 0, 0),\n",
       " (67, 130, 1, 2, 40, 0, 0),\n",
       " (72, 154, 1, 2, 42, 0, 0),\n",
       " (67, 119, 1, 2, 40, 0, 2),\n",
       " (65, 160, 0, 2, 41, 0, 2),\n",
       " (70, 121, 1, 2, 45, 0, 2),\n",
       " (63, 103, 0, 1, 38, 0, 2),\n",
       " (74, 218, 0, 2, 43, 0, 0),\n",
       " (72, 145, 1, 2, 42, 0, 2),\n",
       " (67, 99, 0, 1, 39, 1, 3),\n",
       " (69, 209, 1, 2, 43, 0, 2),\n",
       " (67, 143, 1, 2, 38, 0, 2),\n",
       " (70, 209, 0, 2, 44, 0, 2),\n",
       " (71, 145, 1, 2, 44, 0, 2),\n",
       " (72, 185, 1, 3, 44, 0, 2),\n",
       " (65, 96, 0, 1, 37, 1, 4),\n",
       " (60, 125, 0, 1, 38, 1, 3),\n",
       " (70, 166, 1, 0, 40, 0, 0),\n",
       " (63, 102, 0, 1, 38, 1, 4),\n",
       " (67, 133, 1, 3, 40, 0, 0),\n",
       " (62, 105, 0, 2, 37, 1, 0),\n",
       " (71, 168, 1, 3, 42, 0, 0),\n",
       " (62, 100, 0, 1, 38, 0, 2),\n",
       " (74, 202, 0, 2, 43, 0, 0),\n",
       " (72, 165, 1, 2, 44, 0, 2),\n",
       " (65, 98, 0, 1, 38, 1, 3),\n",
       " (67, 145, 0, 1, 39, 1, 4),\n",
       " (65, 99, 0, 3, 39, 1, 4),\n",
       " (61, 98, 0, 3, 37, 0, 2),\n",
       " (67, 119, 1, 3, 40, 0, 0),\n",
       " (70, 190, 1, 2, 43, 0, 3),\n",
       " (62, 142, 1, 1, 37, 0, 1)]"
      ]
     },
     "execution_count": 16,
     "metadata": {},
     "output_type": "execute_result"
    }
   ],
   "source": [
    "X"
   ]
  },
  {
   "cell_type": "code",
   "execution_count": 17,
   "id": "2503b329",
   "metadata": {},
   "outputs": [
    {
     "data": {
      "text/plain": [
       "array([1, 1, 0, 0, 1, 1, 1, 1, 0, 0, 0, 1, 1, 0, 1, 1, 1, 0, 0, 0, 0, 1,\n",
       "       1, 1, 0, 1, 1, 0, 0, 0, 0, 1, 0, 0, 0, 1, 0, 1, 0, 0, 0, 1, 1, 1,\n",
       "       1, 1, 1, 1, 1, 1, 1, 1, 1, 1, 0, 1, 1, 0, 1, 1, 1, 1, 1, 0, 0, 1,\n",
       "       0, 1, 0, 1, 0, 1, 1, 0, 0, 0, 0, 1, 1, 0])"
      ]
     },
     "execution_count": 17,
     "metadata": {},
     "output_type": "execute_result"
    }
   ],
   "source": [
    "Y"
   ]
  },
  {
   "cell_type": "code",
   "execution_count": 18,
   "id": "f7081219",
   "metadata": {},
   "outputs": [],
   "source": [
    "X_train, X_test, Y_train, Y_test = train_test_split(X, Y, test_size = 0.33, random_state = 2)"
   ]
  },
  {
   "cell_type": "code",
   "execution_count": 19,
   "id": "55bccd9d",
   "metadata": {},
   "outputs": [],
   "source": [
    "model = RandomForestClassifier()"
   ]
  },
  {
   "cell_type": "code",
   "execution_count": 20,
   "id": "da4f65c9",
   "metadata": {},
   "outputs": [
    {
     "data": {
      "text/plain": [
       "RandomForestClassifier()"
      ]
     },
     "execution_count": 20,
     "metadata": {},
     "output_type": "execute_result"
    }
   ],
   "source": [
    "model.fit(X_train,Y_train)"
   ]
  },
  {
   "cell_type": "code",
   "execution_count": 21,
   "id": "1f2dffef",
   "metadata": {},
   "outputs": [],
   "source": [
    "prediction = model.predict(X_test)"
   ]
  },
  {
   "cell_type": "code",
   "execution_count": 22,
   "id": "4787bc3d",
   "metadata": {},
   "outputs": [
    {
     "name": "stdout",
     "output_type": "stream",
     "text": [
      "The confusion matrix is:\n",
      " [[10  0]\n",
      " [ 0 17]]\n"
     ]
    }
   ],
   "source": [
    "model_cm = metrics.confusion_matrix(Y_test, prediction)\n",
    "print(\"The confusion matrix is:\\n\",model_cm)"
   ]
  },
  {
   "cell_type": "code",
   "execution_count": 23,
   "id": "8f1ed684",
   "metadata": {},
   "outputs": [
    {
     "name": "stdout",
     "output_type": "stream",
     "text": [
      "              precision    recall  f1-score   support\n",
      "\n",
      "           0       1.00      1.00      1.00        10\n",
      "           1       1.00      1.00      1.00        17\n",
      "\n",
      "    accuracy                           1.00        27\n",
      "   macro avg       1.00      1.00      1.00        27\n",
      "weighted avg       1.00      1.00      1.00        27\n",
      "\n"
     ]
    }
   ],
   "source": [
    "model_cl_rep = metrics.classification_report(Y_test, prediction)\n",
    "print(model_cl_rep)"
   ]
  },
  {
   "cell_type": "code",
   "execution_count": 24,
   "id": "0c3930d6",
   "metadata": {},
   "outputs": [
    {
     "name": "stdout",
     "output_type": "stream",
     "text": [
      "Accuracy of the model is: 100.0\n"
     ]
    }
   ],
   "source": [
    "model_acc = accuracy_score(Y_test, prediction)*100\n",
    "print(\"Accuracy of the model is:\",model_acc)"
   ]
  },
  {
   "cell_type": "code",
   "execution_count": 25,
   "id": "c4246901",
   "metadata": {},
   "outputs": [],
   "source": [
    "model = SVC()"
   ]
  },
  {
   "cell_type": "code",
   "execution_count": 26,
   "id": "1ef172fd",
   "metadata": {},
   "outputs": [
    {
     "data": {
      "text/plain": [
       "SVC()"
      ]
     },
     "execution_count": 26,
     "metadata": {},
     "output_type": "execute_result"
    }
   ],
   "source": [
    "model.fit(X_train,Y_train)"
   ]
  },
  {
   "cell_type": "code",
   "execution_count": 27,
   "id": "2dc151c6",
   "metadata": {},
   "outputs": [],
   "source": [
    "prediction = model.predict(X_test)"
   ]
  },
  {
   "cell_type": "code",
   "execution_count": 28,
   "id": "c0222c1a",
   "metadata": {},
   "outputs": [
    {
     "name": "stdout",
     "output_type": "stream",
     "text": [
      "The confusion matrix is:\n",
      " [[ 7  3]\n",
      " [ 3 14]]\n"
     ]
    }
   ],
   "source": [
    "model_cm = metrics.confusion_matrix(Y_test, prediction)\n",
    "print(\"The confusion matrix is:\\n\",model_cm)"
   ]
  },
  {
   "cell_type": "code",
   "execution_count": 29,
   "id": "2bae4758",
   "metadata": {},
   "outputs": [
    {
     "name": "stdout",
     "output_type": "stream",
     "text": [
      "              precision    recall  f1-score   support\n",
      "\n",
      "           0       0.70      0.70      0.70        10\n",
      "           1       0.82      0.82      0.82        17\n",
      "\n",
      "    accuracy                           0.78        27\n",
      "   macro avg       0.76      0.76      0.76        27\n",
      "weighted avg       0.78      0.78      0.78        27\n",
      "\n"
     ]
    }
   ],
   "source": [
    "model_cl_rep = metrics.classification_report(Y_test, prediction)\n",
    "print(model_cl_rep)"
   ]
  },
  {
   "cell_type": "code",
   "execution_count": 30,
   "id": "92c5a5d1",
   "metadata": {},
   "outputs": [
    {
     "name": "stdout",
     "output_type": "stream",
     "text": [
      "Accuracy of the model is: 77.77777777777779\n"
     ]
    }
   ],
   "source": [
    "model_acc = accuracy_score(Y_test, prediction)*100\n",
    "print(\"Accuracy of the model is:\",model_acc)"
   ]
  },
  {
   "cell_type": "code",
   "execution_count": 31,
   "id": "a522aa05",
   "metadata": {},
   "outputs": [],
   "source": [
    "model = MLPClassifier()"
   ]
  },
  {
   "cell_type": "code",
   "execution_count": 32,
   "id": "5e9b3d72",
   "metadata": {},
   "outputs": [],
   "source": [
    "X_train, X_test, Y_train, Y_test = train_test_split(X, Y, test_size = 0.33, random_state = None)"
   ]
  },
  {
   "cell_type": "code",
   "execution_count": 33,
   "id": "5cb532f2",
   "metadata": {},
   "outputs": [
    {
     "name": "stderr",
     "output_type": "stream",
     "text": [
      "C:\\Users\\hp\\anaconda3\\lib\\site-packages\\sklearn\\neural_network\\_multilayer_perceptron.py:692: ConvergenceWarning: Stochastic Optimizer: Maximum iterations (200) reached and the optimization hasn't converged yet.\n",
      "  warnings.warn(\n"
     ]
    },
    {
     "data": {
      "text/plain": [
       "MLPClassifier()"
      ]
     },
     "execution_count": 33,
     "metadata": {},
     "output_type": "execute_result"
    }
   ],
   "source": [
    "model.fit(X_train,Y_train)"
   ]
  },
  {
   "cell_type": "code",
   "execution_count": 34,
   "id": "d582cd14",
   "metadata": {},
   "outputs": [],
   "source": [
    "prediction = model.predict(X_test)"
   ]
  },
  {
   "cell_type": "code",
   "execution_count": 35,
   "id": "6133f164",
   "metadata": {},
   "outputs": [
    {
     "name": "stdout",
     "output_type": "stream",
     "text": [
      "The confusion matrix is:\n",
      " [[10  2]\n",
      " [ 0 15]]\n"
     ]
    }
   ],
   "source": [
    "model_cm = metrics.confusion_matrix(Y_test, prediction)\n",
    "print(\"The confusion matrix is:\\n\",model_cm)"
   ]
  },
  {
   "cell_type": "code",
   "execution_count": 36,
   "id": "309a6449",
   "metadata": {},
   "outputs": [
    {
     "name": "stdout",
     "output_type": "stream",
     "text": [
      "              precision    recall  f1-score   support\n",
      "\n",
      "           0       1.00      0.83      0.91        12\n",
      "           1       0.88      1.00      0.94        15\n",
      "\n",
      "    accuracy                           0.93        27\n",
      "   macro avg       0.94      0.92      0.92        27\n",
      "weighted avg       0.93      0.93      0.92        27\n",
      "\n"
     ]
    }
   ],
   "source": [
    "model_cl_rep = metrics.classification_report(Y_test, prediction)\n",
    "print(model_cl_rep)"
   ]
  },
  {
   "cell_type": "code",
   "execution_count": 37,
   "id": "b15380bd",
   "metadata": {},
   "outputs": [
    {
     "name": "stdout",
     "output_type": "stream",
     "text": [
      "Accuracy of the model is: 92.5925925925926\n"
     ]
    }
   ],
   "source": [
    "model_acc = accuracy_score(Y_test, prediction)*100\n",
    "print(\"Accuracy of the model is:\",model_acc)"
   ]
  },
  {
   "cell_type": "code",
   "execution_count": 38,
   "id": "63c4fcff",
   "metadata": {},
   "outputs": [],
   "source": [
    "#2. Rerun the experiment using train/test split ratio of 80/20. Do you see any change in the results? Explain."
   ]
  },
  {
   "cell_type": "code",
   "execution_count": 39,
   "id": "669178f5",
   "metadata": {},
   "outputs": [],
   "source": [
    "X_train, X_test, Y_train, Y_test = train_test_split(X, Y, test_size = 0.20, random_state = 2)"
   ]
  },
  {
   "cell_type": "code",
   "execution_count": 40,
   "id": "011bb2cd",
   "metadata": {},
   "outputs": [],
   "source": [
    "model= RandomForestClassifier()"
   ]
  },
  {
   "cell_type": "code",
   "execution_count": 41,
   "id": "bb1bc203",
   "metadata": {},
   "outputs": [
    {
     "data": {
      "text/plain": [
       "RandomForestClassifier()"
      ]
     },
     "execution_count": 41,
     "metadata": {},
     "output_type": "execute_result"
    }
   ],
   "source": [
    "model.fit(X_train,Y_train)"
   ]
  },
  {
   "cell_type": "code",
   "execution_count": 42,
   "id": "ec9605a8",
   "metadata": {},
   "outputs": [],
   "source": [
    "prediction = model.predict(X_test)"
   ]
  },
  {
   "cell_type": "code",
   "execution_count": 43,
   "id": "9d562a16",
   "metadata": {},
   "outputs": [
    {
     "name": "stdout",
     "output_type": "stream",
     "text": [
      "The confusion matrix is:\n",
      " [[ 6  0]\n",
      " [ 0 10]]\n"
     ]
    }
   ],
   "source": [
    "model_cm = metrics.confusion_matrix(Y_test, prediction)\n",
    "print(\"The confusion matrix is:\\n\",model_cm)"
   ]
  },
  {
   "cell_type": "code",
   "execution_count": 44,
   "id": "a2cc35f1",
   "metadata": {},
   "outputs": [
    {
     "name": "stdout",
     "output_type": "stream",
     "text": [
      "              precision    recall  f1-score   support\n",
      "\n",
      "           0       1.00      1.00      1.00         6\n",
      "           1       1.00      1.00      1.00        10\n",
      "\n",
      "    accuracy                           1.00        16\n",
      "   macro avg       1.00      1.00      1.00        16\n",
      "weighted avg       1.00      1.00      1.00        16\n",
      "\n"
     ]
    }
   ],
   "source": [
    "model_cl_rep = metrics.classification_report(Y_test, prediction)\n",
    "print(model_cl_rep)"
   ]
  },
  {
   "cell_type": "code",
   "execution_count": 45,
   "id": "7353a726",
   "metadata": {},
   "outputs": [
    {
     "name": "stdout",
     "output_type": "stream",
     "text": [
      "Accuracy score of the model is: 100.0\n"
     ]
    }
   ],
   "source": [
    "model_acc = accuracy_score(Y_test, prediction)*100\n",
    "print(\"Accuracy score of the model is:\",model_acc)"
   ]
  },
  {
   "cell_type": "code",
   "execution_count": 46,
   "id": "45510cdd",
   "metadata": {},
   "outputs": [],
   "source": [
    "model = SVC()"
   ]
  },
  {
   "cell_type": "code",
   "execution_count": 47,
   "id": "ec3013ba",
   "metadata": {},
   "outputs": [
    {
     "data": {
      "text/plain": [
       "SVC()"
      ]
     },
     "execution_count": 47,
     "metadata": {},
     "output_type": "execute_result"
    }
   ],
   "source": [
    "model.fit(X_train,Y_train)"
   ]
  },
  {
   "cell_type": "code",
   "execution_count": 48,
   "id": "f38cfa5b",
   "metadata": {},
   "outputs": [],
   "source": [
    "prediction = model.predict(X_test)"
   ]
  },
  {
   "cell_type": "code",
   "execution_count": 49,
   "id": "2bf673fa",
   "metadata": {},
   "outputs": [
    {
     "name": "stdout",
     "output_type": "stream",
     "text": [
      "The confusion matrix is:\n",
      " [[4 2]\n",
      " [1 9]]\n"
     ]
    }
   ],
   "source": [
    "model_cm = metrics.confusion_matrix(Y_test, prediction)\n",
    "print(\"The confusion matrix is:\\n\",model_cm)"
   ]
  },
  {
   "cell_type": "code",
   "execution_count": 50,
   "id": "3d05ce5d",
   "metadata": {},
   "outputs": [
    {
     "name": "stdout",
     "output_type": "stream",
     "text": [
      "              precision    recall  f1-score   support\n",
      "\n",
      "           0       0.80      0.67      0.73         6\n",
      "           1       0.82      0.90      0.86        10\n",
      "\n",
      "    accuracy                           0.81        16\n",
      "   macro avg       0.81      0.78      0.79        16\n",
      "weighted avg       0.81      0.81      0.81        16\n",
      "\n"
     ]
    }
   ],
   "source": [
    "model_cl_rep = metrics.classification_report(Y_test, prediction)\n",
    "print(model_cl_rep)"
   ]
  },
  {
   "cell_type": "code",
   "execution_count": 51,
   "id": "7f92c5d6",
   "metadata": {},
   "outputs": [
    {
     "name": "stdout",
     "output_type": "stream",
     "text": [
      "Accuracy of the model is: 81.25\n"
     ]
    }
   ],
   "source": [
    "model_acc = accuracy_score(Y_test, prediction)*100\n",
    "print(\"Accuracy of the model is:\",model_acc)"
   ]
  },
  {
   "cell_type": "code",
   "execution_count": 52,
   "id": "81fb1990",
   "metadata": {},
   "outputs": [],
   "source": [
    "model = MLPClassifier()"
   ]
  },
  {
   "cell_type": "code",
   "execution_count": 53,
   "id": "11545d96",
   "metadata": {},
   "outputs": [],
   "source": [
    "X_train, X_test, Y_train, Y_test = train_test_split(X, Y, test_size = 0.20, random_state = 2)"
   ]
  },
  {
   "cell_type": "code",
   "execution_count": 54,
   "id": "1cf40660",
   "metadata": {},
   "outputs": [
    {
     "name": "stderr",
     "output_type": "stream",
     "text": [
      "C:\\Users\\hp\\anaconda3\\lib\\site-packages\\sklearn\\neural_network\\_multilayer_perceptron.py:692: ConvergenceWarning: Stochastic Optimizer: Maximum iterations (200) reached and the optimization hasn't converged yet.\n",
      "  warnings.warn(\n"
     ]
    },
    {
     "data": {
      "text/plain": [
       "MLPClassifier()"
      ]
     },
     "execution_count": 54,
     "metadata": {},
     "output_type": "execute_result"
    }
   ],
   "source": [
    "model.fit(X_train,Y_train)"
   ]
  },
  {
   "cell_type": "code",
   "execution_count": 55,
   "id": "8a85e321",
   "metadata": {},
   "outputs": [],
   "source": [
    "prediction = model.predict(X_test)"
   ]
  },
  {
   "cell_type": "code",
   "execution_count": 56,
   "id": "30a13a6f",
   "metadata": {},
   "outputs": [
    {
     "name": "stdout",
     "output_type": "stream",
     "text": [
      "The confusion matrix is:\n",
      " [[ 6  0]\n",
      " [ 0 10]]\n"
     ]
    }
   ],
   "source": [
    "model_cm = metrics.confusion_matrix(Y_test, prediction)\n",
    "print(\"The confusion matrix is:\\n\",model_cm)"
   ]
  },
  {
   "cell_type": "code",
   "execution_count": 57,
   "id": "510fe40b",
   "metadata": {},
   "outputs": [
    {
     "name": "stdout",
     "output_type": "stream",
     "text": [
      "              precision    recall  f1-score   support\n",
      "\n",
      "           0       1.00      1.00      1.00         6\n",
      "           1       1.00      1.00      1.00        10\n",
      "\n",
      "    accuracy                           1.00        16\n",
      "   macro avg       1.00      1.00      1.00        16\n",
      "weighted avg       1.00      1.00      1.00        16\n",
      "\n"
     ]
    }
   ],
   "source": [
    "model_cl_rep = metrics.classification_report(Y_test, prediction)\n",
    "print(model_cl_rep)"
   ]
  },
  {
   "cell_type": "code",
   "execution_count": 58,
   "id": "3eaed21d",
   "metadata": {},
   "outputs": [
    {
     "name": "stdout",
     "output_type": "stream",
     "text": [
      "Accuracy score of the model is: 100.0\n"
     ]
    }
   ],
   "source": [
    "model_acc = accuracy_score(Y_test, prediction)*100\n",
    "print(\"Accuracy score of the model is:\",model_acc)"
   ]
  },
  {
   "cell_type": "code",
   "execution_count": 59,
   "id": "ed7532d2",
   "metadata": {},
   "outputs": [],
   "source": [
    "#Name 2 attributes that you believe are the most “powerful” in the prediction task. Explain why?\n",
    "#beard ans scarf(Explained in pdf document)"
   ]
  },
  {
   "cell_type": "code",
   "execution_count": 60,
   "id": "22c0e557",
   "metadata": {},
   "outputs": [],
   "source": [
    "#4. Try to exclude these 2 attribute(s) from the dataset. Rerun the experiment (using 80/20 train/test split), did you find any change in the results? Explain."
   ]
  },
  {
   "cell_type": "code",
   "execution_count": 61,
   "id": "640b7107",
   "metadata": {},
   "outputs": [
    {
     "data": {
      "text/html": [
       "<div>\n",
       "<style scoped>\n",
       "    .dataframe tbody tr th:only-of-type {\n",
       "        vertical-align: middle;\n",
       "    }\n",
       "\n",
       "    .dataframe tbody tr th {\n",
       "        vertical-align: top;\n",
       "    }\n",
       "\n",
       "    .dataframe thead th {\n",
       "        text-align: right;\n",
       "    }\n",
       "</style>\n",
       "<table border=\"1\" class=\"dataframe\">\n",
       "  <thead>\n",
       "    <tr style=\"text-align: right;\">\n",
       "      <th></th>\n",
       "      <th>height</th>\n",
       "      <th>weight</th>\n",
       "      <th>hair_length</th>\n",
       "      <th>shoe_size</th>\n",
       "      <th>eye_color</th>\n",
       "    </tr>\n",
       "  </thead>\n",
       "  <tbody>\n",
       "    <tr>\n",
       "      <th>0</th>\n",
       "      <td>71</td>\n",
       "      <td>176</td>\n",
       "      <td>short</td>\n",
       "      <td>44</td>\n",
       "      <td>black</td>\n",
       "    </tr>\n",
       "    <tr>\n",
       "      <th>1</th>\n",
       "      <td>68</td>\n",
       "      <td>165</td>\n",
       "      <td>bald</td>\n",
       "      <td>41</td>\n",
       "      <td>black</td>\n",
       "    </tr>\n",
       "    <tr>\n",
       "      <th>2</th>\n",
       "      <td>62</td>\n",
       "      <td>132</td>\n",
       "      <td>medium</td>\n",
       "      <td>37</td>\n",
       "      <td>blue</td>\n",
       "    </tr>\n",
       "    <tr>\n",
       "      <th>3</th>\n",
       "      <td>65</td>\n",
       "      <td>138</td>\n",
       "      <td>long</td>\n",
       "      <td>38</td>\n",
       "      <td>gray</td>\n",
       "    </tr>\n",
       "    <tr>\n",
       "      <th>4</th>\n",
       "      <td>70</td>\n",
       "      <td>197</td>\n",
       "      <td>medium</td>\n",
       "      <td>43</td>\n",
       "      <td>gray</td>\n",
       "    </tr>\n",
       "    <tr>\n",
       "      <th>...</th>\n",
       "      <td>...</td>\n",
       "      <td>...</td>\n",
       "      <td>...</td>\n",
       "      <td>...</td>\n",
       "      <td>...</td>\n",
       "    </tr>\n",
       "    <tr>\n",
       "      <th>75</th>\n",
       "      <td>65</td>\n",
       "      <td>99</td>\n",
       "      <td>short</td>\n",
       "      <td>39</td>\n",
       "      <td>green</td>\n",
       "    </tr>\n",
       "    <tr>\n",
       "      <th>76</th>\n",
       "      <td>61</td>\n",
       "      <td>98</td>\n",
       "      <td>short</td>\n",
       "      <td>37</td>\n",
       "      <td>brown</td>\n",
       "    </tr>\n",
       "    <tr>\n",
       "      <th>77</th>\n",
       "      <td>67</td>\n",
       "      <td>119</td>\n",
       "      <td>short</td>\n",
       "      <td>40</td>\n",
       "      <td>black</td>\n",
       "    </tr>\n",
       "    <tr>\n",
       "      <th>78</th>\n",
       "      <td>70</td>\n",
       "      <td>190</td>\n",
       "      <td>medium</td>\n",
       "      <td>43</td>\n",
       "      <td>gray</td>\n",
       "    </tr>\n",
       "    <tr>\n",
       "      <th>79</th>\n",
       "      <td>62</td>\n",
       "      <td>142</td>\n",
       "      <td>long</td>\n",
       "      <td>37</td>\n",
       "      <td>blue</td>\n",
       "    </tr>\n",
       "  </tbody>\n",
       "</table>\n",
       "<p>80 rows × 5 columns</p>\n",
       "</div>"
      ],
      "text/plain": [
       "    height  weight hair_length  shoe_size eye_color\n",
       "0       71     176       short         44     black\n",
       "1       68     165        bald         41     black\n",
       "2       62     132      medium         37      blue\n",
       "3       65     138        long         38      gray\n",
       "4       70     197      medium         43      gray\n",
       "..     ...     ...         ...        ...       ...\n",
       "75      65      99       short         39     green\n",
       "76      61      98       short         37     brown\n",
       "77      67     119       short         40     black\n",
       "78      70     190      medium         43      gray\n",
       "79      62     142        long         37      blue\n",
       "\n",
       "[80 rows x 5 columns]"
      ]
     },
     "execution_count": 61,
     "metadata": {},
     "output_type": "execute_result"
    }
   ],
   "source": [
    "data = df.drop(['beard','scarf','gender'],axis=1)\n",
    "data"
   ]
  },
  {
   "cell_type": "code",
   "execution_count": 62,
   "id": "bf86f802",
   "metadata": {},
   "outputs": [
    {
     "data": {
      "text/plain": [
       "[(71, 176, 3, 44, 0),\n",
       " (68, 165, 0, 41, 0),\n",
       " (62, 132, 2, 37, 1),\n",
       " (65, 138, 1, 38, 3),\n",
       " (70, 197, 2, 43, 3),\n",
       " (71, 190, 3, 43, 0),\n",
       " (74, 201, 0, 44, 2),\n",
       " (74, 182, 3, 46, 2),\n",
       " (63, 127, 3, 35, 4),\n",
       " (65, 139, 2, 37, 3),\n",
       " (66, 125, 1, 36, 3),\n",
       " (73, 188, 3, 42, 3),\n",
       " (74, 167, 2, 41, 0),\n",
       " (68, 141, 1, 38, 3),\n",
       " (70, 199, 2, 40, 0),\n",
       " (73, 189, 3, 43, 1),\n",
       " (69, 159, 3, 43, 0),\n",
       " (68, 135, 1, 37, 4),\n",
       " (68, 145, 1, 38, 3),\n",
       " (66, 138, 2, 37, 4),\n",
       " (66, 132, 2, 40, 0),\n",
       " (71, 170, 2, 42, 0),\n",
       " (67, 119, 3, 40, 0),\n",
       " (70, 190, 2, 43, 3),\n",
       " (68, 154, 2, 38, 2),\n",
       " (71, 155, 2, 45, 2),\n",
       " (69, 121, 2, 41, 0),\n",
       " (68, 97, 2, 39, 4),\n",
       " (68, 158, 1, 38, 1),\n",
       " (58, 92, 3, 40, 3),\n",
       " (63, 109, 2, 37, 2),\n",
       " (71, 158, 2, 44, 3),\n",
       " (61, 88, 1, 37, 3),\n",
       " (67, 132, 2, 38, 0),\n",
       " (62, 116, 2, 39, 2),\n",
       " (71, 125, 2, 42, 2),\n",
       " (63, 125, 2, 39, 4),\n",
       " (68, 121, 2, 40, 0),\n",
       " (67, 145, 1, 39, 3),\n",
       " (65, 99, 2, 38, 4),\n",
       " (61, 98, 3, 37, 3),\n",
       " (70, 167, 2, 42, 0),\n",
       " (64, 122, 2, 42, 0),\n",
       " (61, 156, 3, 41, 2),\n",
       " (69, 178, 0, 44, 0),\n",
       " (72, 150, 2, 43, 2),\n",
       " (70, 160, 1, 42, 0),\n",
       " (67, 167, 2, 42, 2),\n",
       " (72, 153, 2, 42, 0),\n",
       " (67, 130, 2, 40, 0),\n",
       " (72, 154, 2, 42, 0),\n",
       " (67, 119, 2, 40, 2),\n",
       " (65, 160, 2, 41, 2),\n",
       " (70, 121, 2, 45, 2),\n",
       " (63, 103, 1, 38, 2),\n",
       " (74, 218, 2, 43, 0),\n",
       " (72, 145, 2, 42, 2),\n",
       " (67, 99, 1, 39, 3),\n",
       " (69, 209, 2, 43, 2),\n",
       " (67, 143, 2, 38, 2),\n",
       " (70, 209, 2, 44, 2),\n",
       " (71, 145, 2, 44, 2),\n",
       " (72, 185, 3, 44, 2),\n",
       " (65, 96, 1, 37, 4),\n",
       " (60, 125, 1, 38, 3),\n",
       " (70, 166, 0, 40, 0),\n",
       " (63, 102, 1, 38, 4),\n",
       " (67, 133, 3, 40, 0),\n",
       " (62, 105, 2, 37, 0),\n",
       " (71, 168, 3, 42, 0),\n",
       " (62, 100, 1, 38, 2),\n",
       " (74, 202, 2, 43, 0),\n",
       " (72, 165, 2, 44, 2),\n",
       " (65, 98, 1, 38, 3),\n",
       " (67, 145, 1, 39, 4),\n",
       " (65, 99, 3, 39, 4),\n",
       " (61, 98, 3, 37, 2),\n",
       " (67, 119, 3, 40, 0),\n",
       " (70, 190, 2, 43, 3),\n",
       " (62, 142, 1, 37, 1)]"
      ]
     },
     "execution_count": 62,
     "metadata": {},
     "output_type": "execute_result"
    }
   ],
   "source": [
    "X = list(zip(data.height, data.weight, h_encoded,data.shoe_size, e_encoded))\n",
    "Y = g_encoded\n",
    "\n",
    "X"
   ]
  },
  {
   "cell_type": "code",
   "execution_count": 63,
   "id": "82f22c38",
   "metadata": {},
   "outputs": [
    {
     "data": {
      "text/plain": [
       "array([1, 1, 0, 0, 1, 1, 1, 1, 0, 0, 0, 1, 1, 0, 1, 1, 1, 0, 0, 0, 0, 1,\n",
       "       1, 1, 0, 1, 1, 0, 0, 0, 0, 1, 0, 0, 0, 1, 0, 1, 0, 0, 0, 1, 1, 1,\n",
       "       1, 1, 1, 1, 1, 1, 1, 1, 1, 1, 0, 1, 1, 0, 1, 1, 1, 1, 1, 0, 0, 1,\n",
       "       0, 1, 0, 1, 0, 1, 1, 0, 0, 0, 0, 1, 1, 0])"
      ]
     },
     "execution_count": 63,
     "metadata": {},
     "output_type": "execute_result"
    }
   ],
   "source": [
    "Y"
   ]
  },
  {
   "cell_type": "code",
   "execution_count": 64,
   "id": "48d48814",
   "metadata": {},
   "outputs": [],
   "source": [
    "X_train, X_test, Y_train, Y_test = train_test_split(X, Y, test_size = 0.20, random_state = 2)"
   ]
  },
  {
   "cell_type": "code",
   "execution_count": 65,
   "id": "b964422b",
   "metadata": {},
   "outputs": [],
   "source": [
    "model= RandomForestClassifier()"
   ]
  },
  {
   "cell_type": "code",
   "execution_count": 66,
   "id": "36d95d4e",
   "metadata": {},
   "outputs": [
    {
     "data": {
      "text/plain": [
       "RandomForestClassifier()"
      ]
     },
     "execution_count": 66,
     "metadata": {},
     "output_type": "execute_result"
    }
   ],
   "source": [
    "model.fit(X_train,Y_train)"
   ]
  },
  {
   "cell_type": "code",
   "execution_count": 67,
   "id": "be0e5a3e",
   "metadata": {},
   "outputs": [],
   "source": [
    "prediction = model.predict(X_test)"
   ]
  },
  {
   "cell_type": "code",
   "execution_count": 68,
   "id": "51fe990b",
   "metadata": {},
   "outputs": [
    {
     "name": "stdout",
     "output_type": "stream",
     "text": [
      "The confusion matrix is:\n",
      " [[ 6  0]\n",
      " [ 0 10]]\n"
     ]
    }
   ],
   "source": [
    "model_cm = metrics.confusion_matrix(Y_test, prediction)\n",
    "print(\"The confusion matrix is:\\n\",model_cm)"
   ]
  },
  {
   "cell_type": "code",
   "execution_count": 69,
   "id": "77b1b2a4",
   "metadata": {},
   "outputs": [
    {
     "name": "stdout",
     "output_type": "stream",
     "text": [
      "              precision    recall  f1-score   support\n",
      "\n",
      "           0       1.00      1.00      1.00         6\n",
      "           1       1.00      1.00      1.00        10\n",
      "\n",
      "    accuracy                           1.00        16\n",
      "   macro avg       1.00      1.00      1.00        16\n",
      "weighted avg       1.00      1.00      1.00        16\n",
      "\n"
     ]
    }
   ],
   "source": [
    "model_cl_rep = metrics.classification_report(Y_test, prediction)\n",
    "print(model_cl_rep)"
   ]
  },
  {
   "cell_type": "code",
   "execution_count": 70,
   "id": "e99c9995",
   "metadata": {},
   "outputs": [
    {
     "name": "stdout",
     "output_type": "stream",
     "text": [
      "Accuracy score of the model is: 100.0\n"
     ]
    }
   ],
   "source": [
    "model_acc = accuracy_score(Y_test, prediction)*100\n",
    "print(\"Accuracy score of the model is:\",model_acc)"
   ]
  },
  {
   "cell_type": "code",
   "execution_count": 71,
   "id": "0319e2c5",
   "metadata": {},
   "outputs": [],
   "source": [
    "model= SVC()"
   ]
  },
  {
   "cell_type": "code",
   "execution_count": 72,
   "id": "9fce4f0f",
   "metadata": {},
   "outputs": [
    {
     "data": {
      "text/plain": [
       "SVC()"
      ]
     },
     "execution_count": 72,
     "metadata": {},
     "output_type": "execute_result"
    }
   ],
   "source": [
    "model.fit(X_train,Y_train)"
   ]
  },
  {
   "cell_type": "code",
   "execution_count": 73,
   "id": "1cc52406",
   "metadata": {},
   "outputs": [],
   "source": [
    "prediction = model.predict(X_test)"
   ]
  },
  {
   "cell_type": "code",
   "execution_count": 74,
   "id": "74c90daf",
   "metadata": {},
   "outputs": [
    {
     "name": "stdout",
     "output_type": "stream",
     "text": [
      "The confusion matrix is:\n",
      " [[4 2]\n",
      " [1 9]]\n"
     ]
    }
   ],
   "source": [
    "model_cm = metrics.confusion_matrix(Y_test, prediction)\n",
    "print(\"The confusion matrix is:\\n\",model_cm)"
   ]
  },
  {
   "cell_type": "code",
   "execution_count": 75,
   "id": "46723f17",
   "metadata": {},
   "outputs": [
    {
     "name": "stdout",
     "output_type": "stream",
     "text": [
      "              precision    recall  f1-score   support\n",
      "\n",
      "           0       0.80      0.67      0.73         6\n",
      "           1       0.82      0.90      0.86        10\n",
      "\n",
      "    accuracy                           0.81        16\n",
      "   macro avg       0.81      0.78      0.79        16\n",
      "weighted avg       0.81      0.81      0.81        16\n",
      "\n"
     ]
    }
   ],
   "source": [
    "model_cl_rep = metrics.classification_report(Y_test, prediction)\n",
    "print(model_cl_rep)"
   ]
  },
  {
   "cell_type": "code",
   "execution_count": 76,
   "id": "afd0b2f4",
   "metadata": {},
   "outputs": [
    {
     "name": "stdout",
     "output_type": "stream",
     "text": [
      "Accuracy score of the model is: 81.25\n"
     ]
    }
   ],
   "source": [
    "model_acc = accuracy_score(Y_test, prediction)*100\n",
    "print(\"Accuracy score of the model is:\",model_acc)"
   ]
  },
  {
   "cell_type": "code",
   "execution_count": 77,
   "id": "95c82989",
   "metadata": {},
   "outputs": [],
   "source": [
    "model = MLPClassifier()"
   ]
  },
  {
   "cell_type": "code",
   "execution_count": 78,
   "id": "2f95f397",
   "metadata": {},
   "outputs": [
    {
     "name": "stderr",
     "output_type": "stream",
     "text": [
      "C:\\Users\\hp\\anaconda3\\lib\\site-packages\\sklearn\\neural_network\\_multilayer_perceptron.py:692: ConvergenceWarning: Stochastic Optimizer: Maximum iterations (200) reached and the optimization hasn't converged yet.\n",
      "  warnings.warn(\n"
     ]
    },
    {
     "data": {
      "text/plain": [
       "MLPClassifier()"
      ]
     },
     "execution_count": 78,
     "metadata": {},
     "output_type": "execute_result"
    }
   ],
   "source": [
    "model.fit(X_train,Y_train)"
   ]
  },
  {
   "cell_type": "code",
   "execution_count": 79,
   "id": "a83b3bb4",
   "metadata": {},
   "outputs": [],
   "source": [
    "prediction = model.predict(X_test)"
   ]
  },
  {
   "cell_type": "code",
   "execution_count": 80,
   "id": "5528e0dd",
   "metadata": {},
   "outputs": [
    {
     "name": "stdout",
     "output_type": "stream",
     "text": [
      "The confusion matrix is:\n",
      " [[ 6  0]\n",
      " [ 0 10]]\n"
     ]
    }
   ],
   "source": [
    "model_cm = metrics.confusion_matrix(Y_test, prediction)\n",
    "print(\"The confusion matrix is:\\n\",model_cm)"
   ]
  },
  {
   "cell_type": "code",
   "execution_count": 81,
   "id": "19097bef",
   "metadata": {},
   "outputs": [
    {
     "name": "stdout",
     "output_type": "stream",
     "text": [
      "              precision    recall  f1-score   support\n",
      "\n",
      "           0       1.00      1.00      1.00         6\n",
      "           1       1.00      1.00      1.00        10\n",
      "\n",
      "    accuracy                           1.00        16\n",
      "   macro avg       1.00      1.00      1.00        16\n",
      "weighted avg       1.00      1.00      1.00        16\n",
      "\n"
     ]
    }
   ],
   "source": [
    "model_cl_rep = metrics.classification_report(Y_test, prediction)\n",
    "print(model_cl_rep)"
   ]
  },
  {
   "cell_type": "code",
   "execution_count": 82,
   "id": "9643eaec",
   "metadata": {},
   "outputs": [
    {
     "name": "stdout",
     "output_type": "stream",
     "text": [
      "Accuracy score of the model is: 100.0\n"
     ]
    }
   ],
   "source": [
    "model_acc = accuracy_score(Y_test, prediction)*100\n",
    "print(\"Accuracy score of the model is:\",model_acc)"
   ]
  },
  {
   "cell_type": "code",
   "execution_count": null,
   "id": "15ebe9cf",
   "metadata": {},
   "outputs": [],
   "source": []
  },
  {
   "cell_type": "code",
   "execution_count": null,
   "id": "bbe96fc6",
   "metadata": {},
   "outputs": [],
   "source": []
  },
  {
   "cell_type": "code",
   "execution_count": 89,
   "id": "6154045f",
   "metadata": {},
   "outputs": [],
   "source": [
    "#Q3: Apply Decision Tree Classifier classification algorithm (using Python) on the gender prediction dataset with Monte Carlo cross-validation and Leave P-Out cross-validation. Report F1 score for both cross-validation strategies"
   ]
  },
  {
   "cell_type": "code",
   "execution_count": 83,
   "id": "1eb5996f",
   "metadata": {},
   "outputs": [
    {
     "data": {
      "text/plain": [
       "array([1, 1, 0, 0, 1, 1, 1, 1, 0, 0, 0, 1, 1, 0, 1, 1, 1, 0, 0, 0, 0, 1,\n",
       "       1, 1, 0, 1, 1, 0, 0, 0, 0, 1, 0, 0, 0, 1, 0, 1, 0, 0, 0, 1, 1, 1,\n",
       "       1, 1, 1, 1, 1, 1, 1, 1, 1, 1, 0, 1, 1, 0, 1, 1, 1, 1, 1, 0, 0, 1,\n",
       "       0, 1, 0, 1, 0, 1, 1, 0, 0, 0, 0, 1, 1, 0])"
      ]
     },
     "execution_count": 83,
     "metadata": {},
     "output_type": "execute_result"
    }
   ],
   "source": [
    "labels = preprocessing.LabelEncoder()\n",
    "y_encoded = labels.fit_transform(y)\n",
    "y_encoded"
   ]
  },
  {
   "cell_type": "code",
   "execution_count": 84,
   "id": "28bef8fc",
   "metadata": {},
   "outputs": [],
   "source": [
    "from sklearn.tree import DecisionTreeClassifier"
   ]
  },
  {
   "cell_type": "code",
   "execution_count": 108,
   "id": "5f84c1e3",
   "metadata": {},
   "outputs": [],
   "source": [
    "model = DecisionTreeClassifier()"
   ]
  },
  {
   "cell_type": "code",
   "execution_count": 90,
   "id": "edffbf1b",
   "metadata": {},
   "outputs": [
    {
     "data": {
      "text/plain": [
       "DecisionTreeClassifier()"
      ]
     },
     "execution_count": 90,
     "metadata": {},
     "output_type": "execute_result"
    }
   ],
   "source": [
    "model.fit(X_train,Y_train)"
   ]
  },
  {
   "cell_type": "code",
   "execution_count": 91,
   "id": "2bdbb752",
   "metadata": {},
   "outputs": [],
   "source": [
    "X_train, X_test, Y_train, Y_test = train_test_split(X, Y, test_size = 0.20, random_state = 2)"
   ]
  },
  {
   "cell_type": "code",
   "execution_count": 131,
   "id": "25d422a9",
   "metadata": {},
   "outputs": [],
   "source": [
    "# Monte Carlo cross-validation\n",
    "from sklearn.model_selection import ShuffleSplit, cross_val_score"
   ]
  },
  {
   "cell_type": "code",
   "execution_count": 137,
   "id": "fe8e8c61",
   "metadata": {},
   "outputs": [
    {
     "name": "stdout",
     "output_type": "stream",
     "text": [
      "Cross Validation Scores: [0.91666667 0.91666667 0.95833333 0.91666667 0.95833333]\n",
      "Average CV Score:  0.9333333333333332\n",
      "Number of CV Scores used in Average:  5\n"
     ]
    }
   ],
   "source": [
    "clf = DecisionTreeClassifier(random_state=42)\n",
    "\n",
    "ss = ShuffleSplit(train_size=0.6, test_size=0.3, n_splits = 5)\n",
    "\n",
    "scores = cross_val_score(clf,X, y, cv = ss)\n",
    "\n",
    "print(\"Cross Validation Scores:\",scores)\n",
    "print(\"Average CV Score: \", scores.mean())\n",
    "print(\"Number of CV Scores used in Average: \", len(scores))"
   ]
  },
  {
   "cell_type": "code",
   "execution_count": 138,
   "id": "aa7c0d0f",
   "metadata": {},
   "outputs": [],
   "source": [
    "#Leave p-out\n",
    "from sklearn.tree import DecisionTreeClassifier\n",
    "from sklearn.model_selection import LeavePOut, cross_val_score"
   ]
  },
  {
   "cell_type": "code",
   "execution_count": 139,
   "id": "0ec88bb6",
   "metadata": {},
   "outputs": [
    {
     "name": "stdout",
     "output_type": "stream",
     "text": [
      "Cross Validation Scores:  [1. 1. 1. ... 1. 1. 1.]\n",
      "Average CV Score:  0.9371835443037975\n",
      "Number of CV Scores used in Average:  3160\n"
     ]
    }
   ],
   "source": [
    "clf = DecisionTreeClassifier(random_state=42)\n",
    "\n",
    "lpo = LeavePOut(p=2)\n",
    "\n",
    "scores = cross_val_score(clf, X, y, cv = lpo)\n",
    "\n",
    "print(\"Cross Validation Scores: \", scores)\n",
    "print(\"Average CV Score: \", scores.mean())\n",
    "print(\"Number of CV Scores used in Average: \", len(scores))"
   ]
  },
  {
   "cell_type": "code",
   "execution_count": 140,
   "id": "98ee071c",
   "metadata": {},
   "outputs": [],
   "source": [
    "#Q4: Add 5 sample instances into the dataset (you can ask your friends/relatives/sibling for the data). Rerun the ML experiment (using Python) by training the model using Gaussian Naïve Bayes classification algorithmand all the instances from the gender prediction dataset. Evaluate the trained model using the newly added testinstances. Report accuracy, precision, and recall scores"
   ]
  },
  {
   "cell_type": "code",
   "execution_count": 141,
   "id": "a800a7ed",
   "metadata": {},
   "outputs": [
    {
     "name": "stdout",
     "output_type": "stream",
     "text": [
      "    height  weight beard hair_length  shoe_size scarf eye_color  gender\n",
      "0       71     176   yes       short         44    no     black    male\n",
      "1       68     165    no        bald         41    no     black    male\n",
      "2       62     132    no      medium         37   yes      blue  female\n",
      "3       65     138    no        long         38    no      gray  female\n",
      "4       70     197   yes      medium         43    no      gray    male\n",
      "..     ...     ...   ...         ...        ...   ...       ...     ...\n",
      "75      65      99    no       short         39   yes     green  female\n",
      "76      61      98    no       short         37    no     brown  female\n",
      "77      67     119   yes       short         40    no     black    male\n",
      "78      70     190   yes      medium         43    no      gray    male\n",
      "79      62     142   yes        long         37    no      blue  female\n",
      "\n",
      "[80 rows x 8 columns]\n"
     ]
    }
   ],
   "source": [
    "df_test = pd.read_csv(r'C:\\Users\\hp\\Desktop\\gender-prediction-test-instances.csv')\n",
    "print(df)"
   ]
  },
  {
   "cell_type": "code",
   "execution_count": 142,
   "id": "7c975aae",
   "metadata": {},
   "outputs": [],
   "source": [
    "labels = preprocessing.LabelEncoder()\n",
    "\n",
    "b_encoder = labels.fit_transform(df_test.beard)\n",
    "h_encoder = labels.fit_transform(df_test.hair_length)\n",
    "s_encoder = labels.fit_transform(df_test.scarf)\n",
    "e_encoder = labels.fit_transform(df_test.eye_color)\n",
    "g_encoder = labels.fit_transform(df_test.gender)\n"
   ]
  },
  {
   "cell_type": "code",
   "execution_count": 143,
   "id": "1bf3ff14",
   "metadata": {},
   "outputs": [],
   "source": [
    "labels = preprocessing.LabelEncoder()\n",
    "y_encoded = labels.fit_transform(y)"
   ]
  },
  {
   "cell_type": "code",
   "execution_count": 144,
   "id": "6edb15fc",
   "metadata": {},
   "outputs": [],
   "source": [
    "#seperate dependent (output) and independent (input) variables\n",
    "x = df_test.drop('gender', axis=1)\n",
    "y = df_test['gender']"
   ]
  },
  {
   "cell_type": "code",
   "execution_count": 145,
   "id": "8246767d",
   "metadata": {},
   "outputs": [
    {
     "data": {
      "text/plain": [
       "[(71, 176, 1, 3, 44, 0, 0),\n",
       " (68, 165, 0, 0, 41, 0, 0),\n",
       " (62, 132, 0, 2, 37, 1, 1),\n",
       " (65, 138, 0, 1, 38, 0, 3),\n",
       " (70, 197, 1, 2, 43, 0, 3),\n",
       " (71, 190, 1, 3, 43, 0, 0),\n",
       " (74, 201, 1, 0, 44, 0, 2),\n",
       " (74, 182, 0, 3, 46, 0, 2),\n",
       " (63, 127, 0, 3, 35, 0, 4),\n",
       " (65, 139, 0, 2, 37, 1, 3),\n",
       " (66, 125, 0, 1, 36, 0, 3),\n",
       " (73, 188, 1, 3, 42, 0, 3),\n",
       " (74, 167, 0, 2, 41, 0, 0),\n",
       " (68, 141, 0, 1, 38, 0, 3),\n",
       " (70, 199, 1, 2, 40, 0, 0),\n",
       " (73, 189, 1, 3, 43, 0, 1),\n",
       " (69, 159, 0, 3, 43, 0, 0),\n",
       " (68, 135, 0, 1, 37, 1, 4),\n",
       " (68, 145, 0, 1, 38, 1, 3),\n",
       " (66, 138, 0, 2, 37, 0, 4),\n",
       " (66, 132, 0, 2, 40, 0, 0),\n",
       " (71, 170, 1, 2, 42, 0, 0),\n",
       " (67, 119, 1, 3, 40, 0, 0),\n",
       " (70, 190, 1, 2, 43, 0, 3),\n",
       " (68, 154, 0, 2, 38, 1, 2),\n",
       " (71, 155, 1, 2, 45, 0, 2),\n",
       " (69, 121, 1, 2, 41, 0, 0),\n",
       " (68, 97, 0, 2, 39, 0, 4),\n",
       " (68, 158, 0, 1, 38, 0, 1),\n",
       " (58, 92, 0, 3, 40, 1, 3),\n",
       " (63, 109, 0, 2, 37, 1, 2),\n",
       " (71, 158, 1, 2, 44, 0, 3),\n",
       " (61, 88, 0, 1, 37, 0, 3),\n",
       " (67, 132, 0, 2, 38, 0, 0),\n",
       " (62, 116, 0, 2, 39, 1, 2),\n",
       " (71, 125, 1, 2, 42, 0, 2),\n",
       " (63, 125, 0, 2, 39, 1, 4),\n",
       " (68, 121, 1, 2, 40, 0, 0),\n",
       " (67, 145, 0, 1, 39, 1, 3),\n",
       " (65, 99, 0, 2, 38, 1, 4),\n",
       " (61, 98, 0, 3, 37, 0, 3),\n",
       " (70, 167, 1, 2, 42, 0, 0),\n",
       " (64, 122, 1, 2, 42, 0, 0),\n",
       " (61, 156, 1, 3, 41, 0, 2),\n",
       " (69, 178, 1, 0, 44, 0, 0),\n",
       " (72, 150, 0, 2, 43, 0, 2),\n",
       " (70, 160, 0, 1, 42, 0, 0),\n",
       " (67, 167, 1, 2, 42, 0, 2),\n",
       " (72, 153, 1, 2, 42, 0, 0),\n",
       " (67, 130, 1, 2, 40, 0, 0),\n",
       " (72, 154, 1, 2, 42, 0, 0),\n",
       " (67, 119, 1, 2, 40, 0, 2),\n",
       " (65, 160, 0, 2, 41, 0, 2),\n",
       " (70, 121, 1, 2, 45, 0, 2),\n",
       " (63, 103, 0, 1, 38, 0, 2),\n",
       " (74, 218, 0, 2, 43, 0, 0),\n",
       " (72, 145, 1, 2, 42, 0, 2),\n",
       " (67, 99, 0, 1, 39, 1, 3),\n",
       " (69, 209, 1, 2, 43, 0, 2),\n",
       " (67, 143, 1, 2, 38, 0, 2),\n",
       " (70, 209, 0, 2, 44, 0, 2),\n",
       " (71, 145, 1, 2, 44, 0, 2),\n",
       " (72, 185, 1, 3, 44, 0, 2),\n",
       " (65, 96, 0, 1, 37, 1, 4),\n",
       " (60, 125, 0, 1, 38, 1, 3),\n",
       " (70, 166, 1, 0, 40, 0, 0),\n",
       " (63, 102, 0, 1, 38, 1, 4),\n",
       " (67, 133, 1, 3, 40, 0, 0),\n",
       " (62, 105, 0, 2, 37, 1, 0),\n",
       " (71, 168, 1, 3, 42, 0, 0),\n",
       " (62, 100, 0, 1, 38, 0, 2),\n",
       " (74, 202, 0, 2, 43, 0, 0),\n",
       " (72, 165, 1, 2, 44, 0, 2),\n",
       " (65, 98, 0, 1, 38, 1, 3),\n",
       " (67, 145, 0, 1, 39, 1, 4),\n",
       " (65, 99, 0, 3, 39, 1, 4),\n",
       " (61, 98, 0, 3, 37, 0, 2),\n",
       " (67, 119, 1, 3, 40, 0, 0),\n",
       " (70, 190, 1, 2, 43, 0, 3),\n",
       " (62, 142, 1, 1, 37, 0, 1),\n",
       " (70, 147, 1, 3, 42, 0, 0),\n",
       " (61, 158, 0, 1, 39, 1, 2),\n",
       " (65, 169, 1, 3, 44, 0, 0),\n",
       " (68, 170, 1, 3, 44, 0, 2),\n",
       " (59, 142, 0, 2, 38, 0, 2)]"
      ]
     },
     "execution_count": 145,
     "metadata": {},
     "output_type": "execute_result"
    }
   ],
   "source": [
    "X = list(zip(df_test.height, df_test.weight, b_encoder, h_encoder, df_test.shoe_size, s_encoder, e_encoder))\n",
    "Y = g_encoder\n",
    "X"
   ]
  },
  {
   "cell_type": "code",
   "execution_count": 146,
   "id": "c3d2ec87",
   "metadata": {},
   "outputs": [],
   "source": [
    "X_train, X_test, Y_train, Y_test = train_test_split(X, Y, test_size = 0.33, random_state = 2)"
   ]
  },
  {
   "cell_type": "code",
   "execution_count": 147,
   "id": "d4659d2f",
   "metadata": {},
   "outputs": [],
   "source": [
    "from sklearn.naive_bayes import GaussianNB"
   ]
  },
  {
   "cell_type": "code",
   "execution_count": 148,
   "id": "a0c676fc",
   "metadata": {},
   "outputs": [],
   "source": [
    "model = GaussianNB()"
   ]
  },
  {
   "cell_type": "code",
   "execution_count": 149,
   "id": "5a550a77",
   "metadata": {},
   "outputs": [
    {
     "data": {
      "text/plain": [
       "GaussianNB()"
      ]
     },
     "execution_count": 149,
     "metadata": {},
     "output_type": "execute_result"
    }
   ],
   "source": [
    "model.fit(X_train,Y_train)"
   ]
  },
  {
   "cell_type": "code",
   "execution_count": 150,
   "id": "d5582de5",
   "metadata": {},
   "outputs": [],
   "source": [
    "prediction = model.predict(X_test)"
   ]
  },
  {
   "cell_type": "code",
   "execution_count": 151,
   "id": "223986cd",
   "metadata": {},
   "outputs": [
    {
     "name": "stdout",
     "output_type": "stream",
     "text": [
      "The confusion matrix is:\n",
      " [[10  1]\n",
      " [ 0 18]]\n"
     ]
    }
   ],
   "source": [
    "model_cm = metrics.confusion_matrix(Y_test, prediction)\n",
    "print(\"The confusion matrix is:\\n\",model_cm)"
   ]
  },
  {
   "cell_type": "code",
   "execution_count": 152,
   "id": "34c0fc55",
   "metadata": {},
   "outputs": [
    {
     "name": "stdout",
     "output_type": "stream",
     "text": [
      "              precision    recall  f1-score   support\n",
      "\n",
      "           0       1.00      0.91      0.95        11\n",
      "           1       0.95      1.00      0.97        18\n",
      "\n",
      "    accuracy                           0.97        29\n",
      "   macro avg       0.97      0.95      0.96        29\n",
      "weighted avg       0.97      0.97      0.97        29\n",
      "\n"
     ]
    }
   ],
   "source": [
    "model_cl_rep = metrics.classification_report(Y_test, prediction)\n",
    "print(model_cl_rep)"
   ]
  },
  {
   "cell_type": "code",
   "execution_count": 153,
   "id": "eea31b32",
   "metadata": {},
   "outputs": [
    {
     "name": "stdout",
     "output_type": "stream",
     "text": [
      "Accuracy score of the model is: 96.55172413793103\n"
     ]
    }
   ],
   "source": [
    "model_acc = accuracy_score(Y_test, prediction)*100\n",
    "print(\"Accuracy score of the model is:\",model_acc)"
   ]
  }
 ],
 "metadata": {
  "kernelspec": {
   "display_name": "Python 3 (ipykernel)",
   "language": "python",
   "name": "python3"
  },
  "language_info": {
   "codemirror_mode": {
    "name": "ipython",
    "version": 3
   },
   "file_extension": ".py",
   "mimetype": "text/x-python",
   "name": "python",
   "nbconvert_exporter": "python",
   "pygments_lexer": "ipython3",
   "version": "3.9.12"
  }
 },
 "nbformat": 4,
 "nbformat_minor": 5
}
