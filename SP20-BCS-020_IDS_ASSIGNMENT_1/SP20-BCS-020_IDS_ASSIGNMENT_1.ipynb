{
  "nbformat": 4,
  "nbformat_minor": 0,
  "metadata": {
    "colab": {
      "provenance": []
    },
    "kernelspec": {
      "name": "python3",
      "display_name": "Python 3"
    },
    "language_info": {
      "name": "python"
    }
  },
  "cells": [
    {
      "cell_type": "markdown",
      "source": [
        "*  Registration Number: SP20-BCS-020\n",
        "*   Name: Ayesha Tariq\n",
        "*   Group-4"
      ],
      "metadata": {
        "id": "l7patZyyXonX"
      }
    },
    {
      "cell_type": "markdown",
      "source": [
        "**What** **was** **Cleaned** //15 Muhammad Zain 1 color removed //Row 7 December capitalize //Row 40 Muaz Ijaz Birth Month Written: 24/02/01 will be written as Feburaray //Row 77 Adnan Safdar Birth Month written as Sep will be written as September //Row 123 Rohaan Yousaf Birth Month written as 11 will be written as November //Row 96 Shadab Gull favourite color wriiten as Gray and Brown //Row 125 and 31 No need to write kgs with weight //Row 48 SSC total marks removed //Row 44 only % written replaced by 330 //Row 74 Double point removed from CGPA //Row 61 Total removed from HSSC 2 marks //Row 112 Total marks removed from HSSC 2 marks\n",
        "*   **Birth Month Number Column was added**\n",
        "\n"
      ],
      "metadata": {
        "id": "LCeXtVl8X1J4"
      }
    },
    {
      "cell_type": "code",
      "source": [
        "import matplotlib.pyplot as plt\n",
        "import numpy as np\n",
        "import pandas as pd\n",
        "import seaborn as sns"
      ],
      "metadata": {
        "id": "FLufyoHsX59g"
      },
      "execution_count": 1,
      "outputs": []
    },
    {
      "cell_type": "code",
      "source": [
        "from google.colab import files\n",
        "import io\n",
        "uploaded = files.upload()\n",
        "df = pd.read_csv(io.BytesIO(uploaded['the-hello-dataset-fa22_Cleaned1.csv']))"
      ],
      "metadata": {
        "colab": {
          "base_uri": "https://localhost:8080/",
          "height": 73
        },
        "id": "Za8GXnZyX93K",
        "outputId": "f627cf36-a4ed-42c6-ef90-481e4d0a44bb"
      },
      "execution_count": 2,
      "outputs": [
        {
          "output_type": "display_data",
          "data": {
            "text/plain": [
              "<IPython.core.display.HTML object>"
            ],
            "text/html": [
              "\n",
              "     <input type=\"file\" id=\"files-d05de8f0-b752-4905-ad1b-4eecc13cdc10\" name=\"files[]\" multiple disabled\n",
              "        style=\"border:none\" />\n",
              "     <output id=\"result-d05de8f0-b752-4905-ad1b-4eecc13cdc10\">\n",
              "      Upload widget is only available when the cell has been executed in the\n",
              "      current browser session. Please rerun this cell to enable.\n",
              "      </output>\n",
              "      <script>// Copyright 2017 Google LLC\n",
              "//\n",
              "// Licensed under the Apache License, Version 2.0 (the \"License\");\n",
              "// you may not use this file except in compliance with the License.\n",
              "// You may obtain a copy of the License at\n",
              "//\n",
              "//      http://www.apache.org/licenses/LICENSE-2.0\n",
              "//\n",
              "// Unless required by applicable law or agreed to in writing, software\n",
              "// distributed under the License is distributed on an \"AS IS\" BASIS,\n",
              "// WITHOUT WARRANTIES OR CONDITIONS OF ANY KIND, either express or implied.\n",
              "// See the License for the specific language governing permissions and\n",
              "// limitations under the License.\n",
              "\n",
              "/**\n",
              " * @fileoverview Helpers for google.colab Python module.\n",
              " */\n",
              "(function(scope) {\n",
              "function span(text, styleAttributes = {}) {\n",
              "  const element = document.createElement('span');\n",
              "  element.textContent = text;\n",
              "  for (const key of Object.keys(styleAttributes)) {\n",
              "    element.style[key] = styleAttributes[key];\n",
              "  }\n",
              "  return element;\n",
              "}\n",
              "\n",
              "// Max number of bytes which will be uploaded at a time.\n",
              "const MAX_PAYLOAD_SIZE = 100 * 1024;\n",
              "\n",
              "function _uploadFiles(inputId, outputId) {\n",
              "  const steps = uploadFilesStep(inputId, outputId);\n",
              "  const outputElement = document.getElementById(outputId);\n",
              "  // Cache steps on the outputElement to make it available for the next call\n",
              "  // to uploadFilesContinue from Python.\n",
              "  outputElement.steps = steps;\n",
              "\n",
              "  return _uploadFilesContinue(outputId);\n",
              "}\n",
              "\n",
              "// This is roughly an async generator (not supported in the browser yet),\n",
              "// where there are multiple asynchronous steps and the Python side is going\n",
              "// to poll for completion of each step.\n",
              "// This uses a Promise to block the python side on completion of each step,\n",
              "// then passes the result of the previous step as the input to the next step.\n",
              "function _uploadFilesContinue(outputId) {\n",
              "  const outputElement = document.getElementById(outputId);\n",
              "  const steps = outputElement.steps;\n",
              "\n",
              "  const next = steps.next(outputElement.lastPromiseValue);\n",
              "  return Promise.resolve(next.value.promise).then((value) => {\n",
              "    // Cache the last promise value to make it available to the next\n",
              "    // step of the generator.\n",
              "    outputElement.lastPromiseValue = value;\n",
              "    return next.value.response;\n",
              "  });\n",
              "}\n",
              "\n",
              "/**\n",
              " * Generator function which is called between each async step of the upload\n",
              " * process.\n",
              " * @param {string} inputId Element ID of the input file picker element.\n",
              " * @param {string} outputId Element ID of the output display.\n",
              " * @return {!Iterable<!Object>} Iterable of next steps.\n",
              " */\n",
              "function* uploadFilesStep(inputId, outputId) {\n",
              "  const inputElement = document.getElementById(inputId);\n",
              "  inputElement.disabled = false;\n",
              "\n",
              "  const outputElement = document.getElementById(outputId);\n",
              "  outputElement.innerHTML = '';\n",
              "\n",
              "  const pickedPromise = new Promise((resolve) => {\n",
              "    inputElement.addEventListener('change', (e) => {\n",
              "      resolve(e.target.files);\n",
              "    });\n",
              "  });\n",
              "\n",
              "  const cancel = document.createElement('button');\n",
              "  inputElement.parentElement.appendChild(cancel);\n",
              "  cancel.textContent = 'Cancel upload';\n",
              "  const cancelPromise = new Promise((resolve) => {\n",
              "    cancel.onclick = () => {\n",
              "      resolve(null);\n",
              "    };\n",
              "  });\n",
              "\n",
              "  // Wait for the user to pick the files.\n",
              "  const files = yield {\n",
              "    promise: Promise.race([pickedPromise, cancelPromise]),\n",
              "    response: {\n",
              "      action: 'starting',\n",
              "    }\n",
              "  };\n",
              "\n",
              "  cancel.remove();\n",
              "\n",
              "  // Disable the input element since further picks are not allowed.\n",
              "  inputElement.disabled = true;\n",
              "\n",
              "  if (!files) {\n",
              "    return {\n",
              "      response: {\n",
              "        action: 'complete',\n",
              "      }\n",
              "    };\n",
              "  }\n",
              "\n",
              "  for (const file of files) {\n",
              "    const li = document.createElement('li');\n",
              "    li.append(span(file.name, {fontWeight: 'bold'}));\n",
              "    li.append(span(\n",
              "        `(${file.type || 'n/a'}) - ${file.size} bytes, ` +\n",
              "        `last modified: ${\n",
              "            file.lastModifiedDate ? file.lastModifiedDate.toLocaleDateString() :\n",
              "                                    'n/a'} - `));\n",
              "    const percent = span('0% done');\n",
              "    li.appendChild(percent);\n",
              "\n",
              "    outputElement.appendChild(li);\n",
              "\n",
              "    const fileDataPromise = new Promise((resolve) => {\n",
              "      const reader = new FileReader();\n",
              "      reader.onload = (e) => {\n",
              "        resolve(e.target.result);\n",
              "      };\n",
              "      reader.readAsArrayBuffer(file);\n",
              "    });\n",
              "    // Wait for the data to be ready.\n",
              "    let fileData = yield {\n",
              "      promise: fileDataPromise,\n",
              "      response: {\n",
              "        action: 'continue',\n",
              "      }\n",
              "    };\n",
              "\n",
              "    // Use a chunked sending to avoid message size limits. See b/62115660.\n",
              "    let position = 0;\n",
              "    do {\n",
              "      const length = Math.min(fileData.byteLength - position, MAX_PAYLOAD_SIZE);\n",
              "      const chunk = new Uint8Array(fileData, position, length);\n",
              "      position += length;\n",
              "\n",
              "      const base64 = btoa(String.fromCharCode.apply(null, chunk));\n",
              "      yield {\n",
              "        response: {\n",
              "          action: 'append',\n",
              "          file: file.name,\n",
              "          data: base64,\n",
              "        },\n",
              "      };\n",
              "\n",
              "      let percentDone = fileData.byteLength === 0 ?\n",
              "          100 :\n",
              "          Math.round((position / fileData.byteLength) * 100);\n",
              "      percent.textContent = `${percentDone}% done`;\n",
              "\n",
              "    } while (position < fileData.byteLength);\n",
              "  }\n",
              "\n",
              "  // All done.\n",
              "  yield {\n",
              "    response: {\n",
              "      action: 'complete',\n",
              "    }\n",
              "  };\n",
              "}\n",
              "\n",
              "scope.google = scope.google || {};\n",
              "scope.google.colab = scope.google.colab || {};\n",
              "scope.google.colab._files = {\n",
              "  _uploadFiles,\n",
              "  _uploadFilesContinue,\n",
              "};\n",
              "})(self);\n",
              "</script> "
            ]
          },
          "metadata": {}
        },
        {
          "output_type": "stream",
          "name": "stdout",
          "text": [
            "Saving the-hello-dataset-fa22_Cleaned1.csv to the-hello-dataset-fa22_Cleaned1.csv\n"
          ]
        }
      ]
    },
    {
      "cell_type": "code",
      "source": [
        "from google.colab import drive\n",
        "drive.mount('/content/drive')"
      ],
      "metadata": {
        "colab": {
          "base_uri": "https://localhost:8080/"
        },
        "id": "0BNKJu47YHFW",
        "outputId": "e2cb3c5c-272c-48e5-d152-a65871b55f9a"
      },
      "execution_count": 3,
      "outputs": [
        {
          "output_type": "stream",
          "name": "stdout",
          "text": [
            "Mounted at /content/drive\n"
          ]
        }
      ]
    },
    {
      "cell_type": "code",
      "source": [
        "import pandas as pd\n",
        "df = pd.read_csv('the-hello-dataset-fa22_Cleaned1.csv')"
      ],
      "metadata": {
        "id": "41JJOywAYKFb"
      },
      "execution_count": 4,
      "outputs": []
    },
    {
      "cell_type": "code",
      "source": [
        "df"
      ],
      "metadata": {
        "colab": {
          "base_uri": "https://localhost:8080/",
          "height": 332
        },
        "id": "VMv8o_ZIYW5-",
        "outputId": "e69bb05c-35f0-4d75-a1e2-3d79e5e3162e"
      },
      "execution_count": 5,
      "outputs": [
        {
          "output_type": "execute_result",
          "data": {
            "text/plain": [
              "                    Name  Gender  HSSC-1  HSSC-2  CGPA FavoriteColor  \\\n",
              "0         Muhammad Usman    Male     440     369  2.80         Black   \n",
              "1            Taha Ishfaq    Male     415     408  2.73           Red   \n",
              "2        Muhammad Hamdan    Male     388     321  2.78         Black   \n",
              "3    Syeda Maham Gillani  Female     412     440  3.11          Blue   \n",
              "4             Umar Wasim    Male     364     469  2.42         black   \n",
              "..                   ...     ...     ...     ...   ...           ...   \n",
              "129     M Abubakar Malik    Male     410     349  2.94          Blue   \n",
              "130         Muhammad Ali    Male     403     390  2.52        Yellow   \n",
              "131         shafaqat ali    Male     424     824  3.07         Black   \n",
              "132          Ammar Asif     Male     351     423  2.52         Black   \n",
              "133      Muhammad Zubair    Male     361     335  2.81         Black   \n",
              "\n",
              "    BirthMonth  BirthMonthnNumber  Weight  \n",
              "0        March                  3    77.0  \n",
              "1        March                  3    72.0  \n",
              "2      October                 10    53.0  \n",
              "3     February                  2    63.0  \n",
              "4     October                  10    80.0  \n",
              "..         ...                ...     ...  \n",
              "129   Feburary                  2    65.0  \n",
              "130    October                 10    81.0  \n",
              "131        May                  5    58.0  \n",
              "132  December                  12    68.0  \n",
              "133      March                  3    58.0  \n",
              "\n",
              "[134 rows x 9 columns]"
            ],
            "text/html": [
              "\n",
              "  <div id=\"df-d0699548-f10d-4495-a4b8-599da73a78fc\">\n",
              "    <div class=\"colab-df-container\">\n",
              "      <div>\n",
              "<style scoped>\n",
              "    .dataframe tbody tr th:only-of-type {\n",
              "        vertical-align: middle;\n",
              "    }\n",
              "\n",
              "    .dataframe tbody tr th {\n",
              "        vertical-align: top;\n",
              "    }\n",
              "\n",
              "    .dataframe thead th {\n",
              "        text-align: right;\n",
              "    }\n",
              "</style>\n",
              "<table border=\"1\" class=\"dataframe\">\n",
              "  <thead>\n",
              "    <tr style=\"text-align: right;\">\n",
              "      <th></th>\n",
              "      <th>Name</th>\n",
              "      <th>Gender</th>\n",
              "      <th>HSSC-1</th>\n",
              "      <th>HSSC-2</th>\n",
              "      <th>CGPA</th>\n",
              "      <th>FavoriteColor</th>\n",
              "      <th>BirthMonth</th>\n",
              "      <th>BirthMonthnNumber</th>\n",
              "      <th>Weight</th>\n",
              "    </tr>\n",
              "  </thead>\n",
              "  <tbody>\n",
              "    <tr>\n",
              "      <th>0</th>\n",
              "      <td>Muhammad Usman</td>\n",
              "      <td>Male</td>\n",
              "      <td>440</td>\n",
              "      <td>369</td>\n",
              "      <td>2.80</td>\n",
              "      <td>Black</td>\n",
              "      <td>March</td>\n",
              "      <td>3</td>\n",
              "      <td>77.0</td>\n",
              "    </tr>\n",
              "    <tr>\n",
              "      <th>1</th>\n",
              "      <td>Taha Ishfaq</td>\n",
              "      <td>Male</td>\n",
              "      <td>415</td>\n",
              "      <td>408</td>\n",
              "      <td>2.73</td>\n",
              "      <td>Red</td>\n",
              "      <td>March</td>\n",
              "      <td>3</td>\n",
              "      <td>72.0</td>\n",
              "    </tr>\n",
              "    <tr>\n",
              "      <th>2</th>\n",
              "      <td>Muhammad Hamdan</td>\n",
              "      <td>Male</td>\n",
              "      <td>388</td>\n",
              "      <td>321</td>\n",
              "      <td>2.78</td>\n",
              "      <td>Black</td>\n",
              "      <td>October</td>\n",
              "      <td>10</td>\n",
              "      <td>53.0</td>\n",
              "    </tr>\n",
              "    <tr>\n",
              "      <th>3</th>\n",
              "      <td>Syeda Maham Gillani</td>\n",
              "      <td>Female</td>\n",
              "      <td>412</td>\n",
              "      <td>440</td>\n",
              "      <td>3.11</td>\n",
              "      <td>Blue</td>\n",
              "      <td>February</td>\n",
              "      <td>2</td>\n",
              "      <td>63.0</td>\n",
              "    </tr>\n",
              "    <tr>\n",
              "      <th>4</th>\n",
              "      <td>Umar Wasim</td>\n",
              "      <td>Male</td>\n",
              "      <td>364</td>\n",
              "      <td>469</td>\n",
              "      <td>2.42</td>\n",
              "      <td>black</td>\n",
              "      <td>October</td>\n",
              "      <td>10</td>\n",
              "      <td>80.0</td>\n",
              "    </tr>\n",
              "    <tr>\n",
              "      <th>...</th>\n",
              "      <td>...</td>\n",
              "      <td>...</td>\n",
              "      <td>...</td>\n",
              "      <td>...</td>\n",
              "      <td>...</td>\n",
              "      <td>...</td>\n",
              "      <td>...</td>\n",
              "      <td>...</td>\n",
              "      <td>...</td>\n",
              "    </tr>\n",
              "    <tr>\n",
              "      <th>129</th>\n",
              "      <td>M Abubakar Malik</td>\n",
              "      <td>Male</td>\n",
              "      <td>410</td>\n",
              "      <td>349</td>\n",
              "      <td>2.94</td>\n",
              "      <td>Blue</td>\n",
              "      <td>Feburary</td>\n",
              "      <td>2</td>\n",
              "      <td>65.0</td>\n",
              "    </tr>\n",
              "    <tr>\n",
              "      <th>130</th>\n",
              "      <td>Muhammad Ali</td>\n",
              "      <td>Male</td>\n",
              "      <td>403</td>\n",
              "      <td>390</td>\n",
              "      <td>2.52</td>\n",
              "      <td>Yellow</td>\n",
              "      <td>October</td>\n",
              "      <td>10</td>\n",
              "      <td>81.0</td>\n",
              "    </tr>\n",
              "    <tr>\n",
              "      <th>131</th>\n",
              "      <td>shafaqat ali</td>\n",
              "      <td>Male</td>\n",
              "      <td>424</td>\n",
              "      <td>824</td>\n",
              "      <td>3.07</td>\n",
              "      <td>Black</td>\n",
              "      <td>May</td>\n",
              "      <td>5</td>\n",
              "      <td>58.0</td>\n",
              "    </tr>\n",
              "    <tr>\n",
              "      <th>132</th>\n",
              "      <td>Ammar Asif</td>\n",
              "      <td>Male</td>\n",
              "      <td>351</td>\n",
              "      <td>423</td>\n",
              "      <td>2.52</td>\n",
              "      <td>Black</td>\n",
              "      <td>December</td>\n",
              "      <td>12</td>\n",
              "      <td>68.0</td>\n",
              "    </tr>\n",
              "    <tr>\n",
              "      <th>133</th>\n",
              "      <td>Muhammad Zubair</td>\n",
              "      <td>Male</td>\n",
              "      <td>361</td>\n",
              "      <td>335</td>\n",
              "      <td>2.81</td>\n",
              "      <td>Black</td>\n",
              "      <td>March</td>\n",
              "      <td>3</td>\n",
              "      <td>58.0</td>\n",
              "    </tr>\n",
              "  </tbody>\n",
              "</table>\n",
              "<p>134 rows × 9 columns</p>\n",
              "</div>\n",
              "      <button class=\"colab-df-convert\" onclick=\"convertToInteractive('df-d0699548-f10d-4495-a4b8-599da73a78fc')\"\n",
              "              title=\"Convert this dataframe to an interactive table.\"\n",
              "              style=\"display:none;\">\n",
              "        \n",
              "  <svg xmlns=\"http://www.w3.org/2000/svg\" height=\"24px\"viewBox=\"0 0 24 24\"\n",
              "       width=\"24px\">\n",
              "    <path d=\"M0 0h24v24H0V0z\" fill=\"none\"/>\n",
              "    <path d=\"M18.56 5.44l.94 2.06.94-2.06 2.06-.94-2.06-.94-.94-2.06-.94 2.06-2.06.94zm-11 1L8.5 8.5l.94-2.06 2.06-.94-2.06-.94L8.5 2.5l-.94 2.06-2.06.94zm10 10l.94 2.06.94-2.06 2.06-.94-2.06-.94-.94-2.06-.94 2.06-2.06.94z\"/><path d=\"M17.41 7.96l-1.37-1.37c-.4-.4-.92-.59-1.43-.59-.52 0-1.04.2-1.43.59L10.3 9.45l-7.72 7.72c-.78.78-.78 2.05 0 2.83L4 21.41c.39.39.9.59 1.41.59.51 0 1.02-.2 1.41-.59l7.78-7.78 2.81-2.81c.8-.78.8-2.07 0-2.86zM5.41 20L4 18.59l7.72-7.72 1.47 1.35L5.41 20z\"/>\n",
              "  </svg>\n",
              "      </button>\n",
              "      \n",
              "  <style>\n",
              "    .colab-df-container {\n",
              "      display:flex;\n",
              "      flex-wrap:wrap;\n",
              "      gap: 12px;\n",
              "    }\n",
              "\n",
              "    .colab-df-convert {\n",
              "      background-color: #E8F0FE;\n",
              "      border: none;\n",
              "      border-radius: 50%;\n",
              "      cursor: pointer;\n",
              "      display: none;\n",
              "      fill: #1967D2;\n",
              "      height: 32px;\n",
              "      padding: 0 0 0 0;\n",
              "      width: 32px;\n",
              "    }\n",
              "\n",
              "    .colab-df-convert:hover {\n",
              "      background-color: #E2EBFA;\n",
              "      box-shadow: 0px 1px 2px rgba(60, 64, 67, 0.3), 0px 1px 3px 1px rgba(60, 64, 67, 0.15);\n",
              "      fill: #174EA6;\n",
              "    }\n",
              "\n",
              "    [theme=dark] .colab-df-convert {\n",
              "      background-color: #3B4455;\n",
              "      fill: #D2E3FC;\n",
              "    }\n",
              "\n",
              "    [theme=dark] .colab-df-convert:hover {\n",
              "      background-color: #434B5C;\n",
              "      box-shadow: 0px 1px 3px 1px rgba(0, 0, 0, 0.15);\n",
              "      filter: drop-shadow(0px 1px 2px rgba(0, 0, 0, 0.3));\n",
              "      fill: #FFFFFF;\n",
              "    }\n",
              "  </style>\n",
              "\n",
              "      <script>\n",
              "        const buttonEl =\n",
              "          document.querySelector('#df-d0699548-f10d-4495-a4b8-599da73a78fc button.colab-df-convert');\n",
              "        buttonEl.style.display =\n",
              "          google.colab.kernel.accessAllowed ? 'block' : 'none';\n",
              "\n",
              "        async function convertToInteractive(key) {\n",
              "          const element = document.querySelector('#df-d0699548-f10d-4495-a4b8-599da73a78fc');\n",
              "          const dataTable =\n",
              "            await google.colab.kernel.invokeFunction('convertToInteractive',\n",
              "                                                     [key], {});\n",
              "          if (!dataTable) return;\n",
              "\n",
              "          const docLinkHtml = 'Like what you see? Visit the ' +\n",
              "            '<a target=\"_blank\" href=https://colab.research.google.com/notebooks/data_table.ipynb>data table notebook</a>'\n",
              "            + ' to learn more about interactive tables.';\n",
              "          element.innerHTML = '';\n",
              "          dataTable['output_type'] = 'display_data';\n",
              "          await google.colab.output.renderOutput(dataTable, element);\n",
              "          const docLink = document.createElement('div');\n",
              "          docLink.innerHTML = docLinkHtml;\n",
              "          element.appendChild(docLink);\n",
              "        }\n",
              "      </script>\n",
              "    </div>\n",
              "  </div>\n",
              "  "
            ]
          },
          "metadata": {},
          "execution_count": 5
        }
      ]
    },
    {
      "cell_type": "code",
      "source": [
        "#Print the list of all students whose first name starts with letter the 'H'\n",
        "import re\n",
        "data = df[\"Name\"]\n",
        "Letter_match = 'H'\n",
        "result = [idx for idx in data if idx[0].lower() == Letter_match.lower()]\n",
        "print(\"The list of all students whose first name starts with letter H is:\\n \" + str(result))"
      ],
      "metadata": {
        "colab": {
          "base_uri": "https://localhost:8080/"
        },
        "id": "Bn0lEassYXm6",
        "outputId": "60ddbf4f-e0cf-4d06-baea-f34cb94b43c4"
      },
      "execution_count": 6,
      "outputs": [
        {
          "output_type": "stream",
          "name": "stdout",
          "text": [
            "The list of all students whose first name starts with letter H is:\n",
            " ['Hamza Naveed', 'Habib Ullah', 'Hunain Javed', 'Hafiz Malahim Labib.', 'HAMNA TARIQ SALEEMI', 'Hina', 'Hamza Javed Khan', 'Husnain Ahmed ', 'Hamayoun Masroor', 'Hussain afzal']\n"
          ]
        }
      ]
    },
    {
      "cell_type": "code",
      "source": [
        "#Print the percentage of students who have a CGPA of 3.0 or above.\n",
        "Total_count = df['Gender'].value_counts().reset_index(name='TOTAL')\n",
        "TOTAL = Total_count.TOTAL.sum()\n",
        "print(\"Total Students: \",TOTAL)      #Printing total number of students"
      ],
      "metadata": {
        "colab": {
          "base_uri": "https://localhost:8080/"
        },
        "id": "L_7ThIxNYoVi",
        "outputId": "3fa5bfe3-81b7-433f-e61c-57df802fcbb3"
      },
      "execution_count": 7,
      "outputs": [
        {
          "output_type": "stream",
          "name": "stdout",
          "text": [
            "Total Students:  134\n"
          ]
        }
      ]
    },
    {
      "cell_type": "code",
      "source": [
        "Above3 =df[df['CGPA']>=3]"
      ],
      "metadata": {
        "id": "aNvUhboSYzSh"
      },
      "execution_count": 8,
      "outputs": []
    },
    {
      "cell_type": "code",
      "source": [
        "print(Above3)"
      ],
      "metadata": {
        "colab": {
          "base_uri": "https://localhost:8080/"
        },
        "id": "y5SZinhXY1En",
        "outputId": "75d5ab47-8b34-4a82-926d-c10feba06ccf"
      },
      "execution_count": 10,
      "outputs": [
        {
          "output_type": "stream",
          "name": "stdout",
          "text": [
            "                       Name  Gender  HSSC-1  HSSC-2  CGPA FavoriteColor  \\\n",
            "3       Syeda Maham Gillani  Female     412     440  3.11          Blue   \n",
            "6     Shahzada Mujahid Raza    Male     814     466  3.20        Orange   \n",
            "10            Fatima Naqvi   Female     398     355  3.06           Red   \n",
            "11            Seerat Salman    Male     397     415  3.10         Black   \n",
            "12             Tayyab Ahmad    Male     336     422  3.05         Green   \n",
            "14    Muhammad Subhan Khan     Male     412     419  3.53        Yellow   \n",
            "15           Muhammad Adeel    Male     410     365  3.30         Green   \n",
            "16               Ali Mohsin    Male     452     832  3.26         Black   \n",
            "17     SARMAD WAHEED AHMED     Male     436     427  3.47         Green   \n",
            "21              Habib Ullah    Male     399     434  3.35       Mustard   \n",
            "25            Azeem Manzoor    Male     410     403  3.22   Light Green   \n",
            "35               Sana Imran  Female     398     414  3.20     Navy Blue   \n",
            "44             Aleena Khan   Female     424     277  3.12        Peach    \n",
            "52               Ali Hassan    Male     419     330  3.15         Black   \n",
            "53          Shibbal Farooq     Male     386     420  3.01       Yellow    \n",
            "55   Syeda Noor Zehra Naqvi  Female     428     420  3.05        Yellow   \n",
            "56        Muhammad Shahmeer    Male     365     464  3.25     Navy Blue   \n",
            "58     Hafiz Malahim Labib.    Male     390     430  3.24        Orange   \n",
            "59              Umer Nadeem    Male     996     755  3.12     Navy Blue   \n",
            "66               Yalmaz Ali    Male     395     473  3.44          Blue   \n",
            "67             Sobel Bhatti    Male     369     791  3.19         BLACK   \n",
            "68      MUHAMMAD SAIF ULLAH    Male     293     799  3.11        Black    \n",
            "71               NAMATULLA     Male     448     440  3.40         green   \n",
            "73              Ahsan Aijaz    Male     351     327  3.00     Navy Blue   \n",
            "76          Abdul Hadi Khan    Male     315     368  3.23         White   \n",
            "78         Hamza Javed Khan    Male     400     381  3.39          Blue   \n",
            "79          Maheen Iftikhar  Female     358     424  3.27         green   \n",
            "81               Ifrah Ayaz  Female     361     409  3.52         Black   \n",
            "82           Muhammad Afzal    Male     398     402  3.23          Pink   \n",
            "89            Mahmood Ahmad    Male     410     434  3.20         Green   \n",
            "93         Hamayoun Masroor    Male     900     856  3.16          Pink   \n",
            "95          Muhammad Hashim    Male     392     919  3.00         black   \n",
            "104   Muhammad Nouman Tahir    Male     412     442  3.00          Blue   \n",
            "108         NOOR TARIQ RANA  Female     863     490  3.16        Yellow   \n",
            "119             Aqsa Rafiq   Female     423     394  3.12         Black   \n",
            "124   Muhammad Umair Tariq     Male     402     407  3.45       Purple    \n",
            "125          shakira hafeez  Female     402     345  3.06          Blue   \n",
            "131            shafaqat ali    Male     424     824  3.07         Black   \n",
            "\n",
            "     BirthMonth  BirthMonthnNumber  Weight  \n",
            "3      February                  2    63.0  \n",
            "6        August                  8    60.0  \n",
            "10     October                  10    60.0  \n",
            "11    September                  9    65.0  \n",
            "12     December                 12    85.0  \n",
            "14     January                   1    90.0  \n",
            "15    November                  11    90.0  \n",
            "16       August                  8    54.0  \n",
            "17      January                  1    49.5  \n",
            "21        April                  4    60.0  \n",
            "25         june                  6    66.0  \n",
            "35        March                  3    60.0  \n",
            "44     February                  2    54.0  \n",
            "52        march                  3    52.0  \n",
            "53    December                  12    50.0  \n",
            "55      October                 10    67.0  \n",
            "56        March                  3    64.0  \n",
            "58          May                  5    54.0  \n",
            "59          May                  5    65.0  \n",
            "66        March                  3    85.0  \n",
            "67     November                 11    45.0  \n",
            "68         June                  6    66.0  \n",
            "71     October                  10    88.0  \n",
            "73         July                  7    65.0  \n",
            "76         July                  7    98.0  \n",
            "78     January                   1    78.0  \n",
            "79   September                   9    80.0  \n",
            "81         June                  6    46.0  \n",
            "82        March                  3    52.0  \n",
            "89     February                  2    52.0  \n",
            "93   September                   9    63.0  \n",
            "95     February                  2    97.0  \n",
            "104    February                  2    59.0  \n",
            "108     October                 10    60.0  \n",
            "119   September                  9    65.0  \n",
            "124         May                  5    65.0  \n",
            "125     October                 10    60.0  \n",
            "131         May                  5    58.0  \n"
          ]
        }
      ]
    },
    {
      "cell_type": "code",
      "source": [
        "length=len(Above3)\n",
        "print(length)"
      ],
      "metadata": {
        "colab": {
          "base_uri": "https://localhost:8080/"
        },
        "id": "oYwe5sZ_Y3Uk",
        "outputId": "95582a9a-e862-4a0c-e02d-b61ee57d660e"
      },
      "execution_count": 11,
      "outputs": [
        {
          "output_type": "stream",
          "name": "stdout",
          "text": [
            "38\n"
          ]
        }
      ]
    },
    {
      "cell_type": "code",
      "source": [
        "quotient = 38 / 134 #Took values from previous results (Students who have above 3 CGPA/ Total students)\n",
        "percent = quotient * 100\n",
        "print(\"Percentage of students having CGPA of 3 or above is: \", percent)"
      ],
      "metadata": {
        "colab": {
          "base_uri": "https://localhost:8080/"
        },
        "id": "EGEh4rQjZEV1",
        "outputId": "c1f87222-4c1b-4b58-cd5f-508924d71ae7"
      },
      "execution_count": 12,
      "outputs": [
        {
          "output_type": "stream",
          "name": "stdout",
          "text": [
            "Percentage of students having CGPA of 3 or above is:  28.35820895522388\n"
          ]
        }
      ]
    },
    {
      "cell_type": "code",
      "source": [
        "#Plot a pie chart to show the ratio of male and female students.\n",
        "#COUNTING TOTAL NUMBER OF STUDENTS\n",
        "Total_count = df['Gender'].value_counts().reset_index(name='TOTAL')\n",
        "TOTAL = Total_count.TOTAL.sum()\n",
        "print(\"Total Students: \",TOTAL)\n",
        "count = df['Gender'].value_counts().rename_axis('GENDER').reset_index(name='Number')\n",
        "print(count)"
      ],
      "metadata": {
        "colab": {
          "base_uri": "https://localhost:8080/"
        },
        "id": "yxo78Q61ZIBL",
        "outputId": "89379ebe-37e0-43d3-d089-07abbff3ed8a"
      },
      "execution_count": 13,
      "outputs": [
        {
          "output_type": "stream",
          "name": "stdout",
          "text": [
            "Total Students:  134\n",
            "   GENDER  Number\n",
            "0    Male     113\n",
            "1  Female      21\n"
          ]
        }
      ]
    },
    {
      "cell_type": "code",
      "source": [
        "label = count.GENDER\n",
        "value = count.Number"
      ],
      "metadata": {
        "id": "mADpqXCHZL_V"
      },
      "execution_count": 14,
      "outputs": []
    },
    {
      "cell_type": "code",
      "source": [
        "plt.pie(value, labels = label, autopct='%1.2f%%')      \n",
        "plt.show()"
      ],
      "metadata": {
        "colab": {
          "base_uri": "https://localhost:8080/",
          "height": 248
        },
        "id": "nm-ZTAB7ZPF-",
        "outputId": "ff43f4b0-4471-43f4-faf8-551286a8c8da"
      },
      "execution_count": 15,
      "outputs": [
        {
          "output_type": "display_data",
          "data": {
            "text/plain": [
              "<Figure size 432x288 with 1 Axes>"
            ],
            "image/png": "[encoded data removed]"
          },
          "metadata": {}
        }
      ]
    },
    {
      "cell_type": "code",
      "source": [
        "#Plot the HSSC-1 marks of all male vs female students on a scatter plot.\n",
        "df = pd.read_csv('the-hello-dataset-fa22_Cleaned1.csv')\n",
        "plt.scatter(df['HSSC-1'], df['Gender'], marker='x')\n",
        "plt.xlabel('Marks Scored', fontsize=12)\n",
        "plt.ylabel('Gender', fontsize=12)\n",
        "plt.show()"
      ],
      "metadata": {
        "colab": {
          "base_uri": "https://localhost:8080/",
          "height": 282
        },
        "id": "XrEfwv4TZRaO",
        "outputId": "a458e112-4b3b-400a-c9fe-b8b5ac9ad918"
      },
      "execution_count": 17,
      "outputs": [
        {
          "output_type": "display_data",
          "data": {
            "text/plain": [
              "<Figure size 432x288 with 1 Axes>"
            ],
            "image/png": "[encoded data removed]"
          },
          "metadata": {
            "needs_background": "light"
          }
        }
      ]
    },
    {
      "cell_type": "code",
      "source": [
        "#Plot the favorite colors of male vs female students on a bar chart.\n",
        "df = pd.read_csv('the-hello-dataset-fa22_Cleaned1.csv')\n",
        "Gender=df.iloc[:,1].values\n",
        "FavoriteColor=df.iloc[:,5].values\n",
        "plt.bar(Gender,FavoriteColor)\n",
        "plt.xlabel(\"Gender\")\n",
        "plt.ylabel(\"FavoriteColor\")\n",
        "plt.show()"
      ],
      "metadata": {
        "colab": {
          "base_uri": "https://localhost:8080/",
          "height": 279
        },
        "id": "6lde4tXJaU4V",
        "outputId": "42794d99-06f0-457e-9751-f1bf3ae43040"
      },
      "execution_count": 18,
      "outputs": [
        {
          "output_type": "display_data",
          "data": {
            "text/plain": [
              "<Figure size 432x288 with 1 Axes>"
            ],
            "image/png": "[encoded data removed]"
          },
          "metadata": {
            "needs_background": "light"
          }
        }
      ]
    },
    {
      "cell_type": "code",
      "source": [
        "#Plot line chart of students and their birth months\n",
        "Name = df['Name']\n",
        "BirthMonthnNumber = df['BirthMonthnNumber']\n",
        "plt.plot(Name, BirthMonthnNumber)\n",
        "plt.title('Students and Their Birth Month')\n",
        "plt.xlabel('Name')\n",
        "plt.ylabel('BirthMonthnNumber')\n",
        "plt.show()"
      ],
      "metadata": {
        "colab": {
          "base_uri": "https://localhost:8080/",
          "height": 295
        },
        "id": "aQURvMkZaumA",
        "outputId": "8778e384-f331-43aa-c358-5d2aefcc756d"
      },
      "execution_count": 19,
      "outputs": [
        {
          "output_type": "display_data",
          "data": {
            "text/plain": [
              "<Figure size 432x288 with 1 Axes>"
            ],
            "image/png": "[encoded data removed]"
          },
          "metadata": {
            "needs_background": "light"
          }
        }
      ]
    }
  ]
}